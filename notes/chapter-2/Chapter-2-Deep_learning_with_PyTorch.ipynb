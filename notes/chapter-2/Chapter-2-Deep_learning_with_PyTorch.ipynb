{
 "cells": [
  {
   "cell_type": "code",
   "execution_count": 4,
   "id": "2aa7db15",
   "metadata": {},
   "outputs": [],
   "source": [
    "!pip install -q torch torchvision torchaudio"
   ]
  },
  {
   "cell_type": "code",
   "execution_count": 5,
   "id": "ce939477",
   "metadata": {},
   "outputs": [
    {
     "name": "stdout",
     "output_type": "stream",
     "text": [
      "Collecting torchviz\n",
      "  Downloading torchviz-0.0.2.tar.gz (4.9 kB)\n",
      "  Preparing metadata (setup.py) ... \u001b[?25ldone\n",
      "\u001b[?25hRequirement already satisfied: torch in /Users/prakanan/opt/miniconda3/lib/python3.8/site-packages (from torchviz) (1.9.0)\n",
      "Collecting graphviz\n",
      "  Downloading graphviz-0.20.1-py3-none-any.whl (47 kB)\n",
      "\u001b[2K     \u001b[38;2;114;156;31m━━━━━━━━━━━━━━━━━━━━━━━━━━━━━━━━━━━━━━━\u001b[0m \u001b[32m47.0/47.0 kB\u001b[0m \u001b[31m922.7 kB/s\u001b[0m eta \u001b[36m0:00:00\u001b[0m31m2.6 MB/s\u001b[0m eta \u001b[36m0:00:01\u001b[0m\n",
      "\u001b[?25hRequirement already satisfied: typing_extensions in /Users/prakanan/opt/miniconda3/lib/python3.8/site-packages (from torch->torchviz) (4.3.0)\n",
      "Building wheels for collected packages: torchviz\n",
      "  Building wheel for torchviz (setup.py) ... \u001b[?25ldone\n",
      "\u001b[?25h  Created wheel for torchviz: filename=torchviz-0.0.2-py3-none-any.whl size=4131 sha256=f6409f68261028cd7fe05b60f8cf5d555e8a3d2680cacee1ae1715251cba51a2\n",
      "  Stored in directory: /Users/prakanan/Library/Caches/pip/wheels/05/7d/1b/8306781244e42ede119edbb053bdcda1c1f424ca226165a417\n",
      "Successfully built torchviz\n",
      "Installing collected packages: graphviz, torchviz\n",
      "Successfully installed graphviz-0.20.1 torchviz-0.0.2\n"
     ]
    }
   ],
   "source": [
    "!pip install torchviz"
   ]
  },
  {
   "cell_type": "code",
   "execution_count": 6,
   "id": "03f8e796",
   "metadata": {},
   "outputs": [
    {
     "name": "stderr",
     "output_type": "stream",
     "text": [
      "/Users/prakanan/opt/miniconda3/lib/python3.8/site-packages/tqdm/auto.py:22: TqdmWarning: IProgress not found. Please update jupyter and ipywidgets. See https://ipywidgets.readthedocs.io/en/stable/user_install.html\n",
      "  from .autonotebook import tqdm as notebook_tqdm\n"
     ]
    }
   ],
   "source": [
    "import torch"
   ]
  },
  {
   "cell_type": "code",
   "execution_count": 8,
   "id": "c8a8afc7",
   "metadata": {},
   "outputs": [
    {
     "name": "stdout",
     "output_type": "stream",
     "text": [
      "Collecting ipywidgets\n",
      "  Downloading ipywidgets-8.0.4-py3-none-any.whl (137 kB)\n",
      "\u001b[2K     \u001b[38;2;114;156;31m━━━━━━━━━━━━━━━━━━━━━━━━━━━━━━━━━━━━━━━\u001b[0m \u001b[32m137.8/137.8 kB\u001b[0m \u001b[31m2.1 MB/s\u001b[0m eta \u001b[36m0:00:00\u001b[0m[31m3.7 MB/s\u001b[0m eta \u001b[36m0:00:01\u001b[0m\n",
      "\u001b[?25hRequirement already satisfied: traitlets>=4.3.1 in /Users/prakanan/opt/miniconda3/lib/python3.8/site-packages (from ipywidgets) (5.1.1)\n",
      "Requirement already satisfied: ipykernel>=4.5.1 in /Users/prakanan/opt/miniconda3/lib/python3.8/site-packages (from ipywidgets) (6.15.2)\n",
      "Requirement already satisfied: ipython>=6.1.0 in /Users/prakanan/opt/miniconda3/lib/python3.8/site-packages (from ipywidgets) (8.4.0)\n",
      "Collecting jupyterlab-widgets~=3.0\n",
      "  Downloading jupyterlab_widgets-3.0.5-py3-none-any.whl (384 kB)\n",
      "\u001b[2K     \u001b[38;2;114;156;31m━━━━━━━━━━━━━━━━━━━━━━━━━━━━━━━━━━━━━━━\u001b[0m \u001b[32m384.3/384.3 kB\u001b[0m \u001b[31m7.3 MB/s\u001b[0m eta \u001b[36m0:00:00\u001b[0m[36m0:00:01\u001b[0m\n",
      "\u001b[?25hCollecting widgetsnbextension~=4.0\n",
      "  Downloading widgetsnbextension-4.0.5-py3-none-any.whl (2.0 MB)\n",
      "\u001b[2K     \u001b[38;2;114;156;31m━━━━━━━━━━━━━━━━━━━━━━━━━━━━━━━━━━━━━━━━\u001b[0m \u001b[32m2.0/2.0 MB\u001b[0m \u001b[31m20.2 MB/s\u001b[0m eta \u001b[36m0:00:00\u001b[0mm eta \u001b[36m0:00:01\u001b[0m[36m0:00:01\u001b[0m\n",
      "\u001b[?25hRequirement already satisfied: packaging in /Users/prakanan/opt/miniconda3/lib/python3.8/site-packages (from ipykernel>=4.5.1->ipywidgets) (21.3)\n",
      "Requirement already satisfied: pyzmq>=17 in /Users/prakanan/opt/miniconda3/lib/python3.8/site-packages (from ipykernel>=4.5.1->ipywidgets) (23.2.0)\n",
      "Requirement already satisfied: appnope in /Users/prakanan/opt/miniconda3/lib/python3.8/site-packages (from ipykernel>=4.5.1->ipywidgets) (0.1.2)\n",
      "Requirement already satisfied: nest-asyncio in /Users/prakanan/opt/miniconda3/lib/python3.8/site-packages (from ipykernel>=4.5.1->ipywidgets) (1.5.5)\n",
      "Requirement already satisfied: debugpy>=1.0 in /Users/prakanan/opt/miniconda3/lib/python3.8/site-packages (from ipykernel>=4.5.1->ipywidgets) (1.5.1)\n",
      "Requirement already satisfied: matplotlib-inline>=0.1 in /Users/prakanan/opt/miniconda3/lib/python3.8/site-packages (from ipykernel>=4.5.1->ipywidgets) (0.1.6)\n",
      "Requirement already satisfied: tornado>=6.1 in /Users/prakanan/opt/miniconda3/lib/python3.8/site-packages (from ipykernel>=4.5.1->ipywidgets) (6.2)\n",
      "Requirement already satisfied: jupyter-client>=6.1.12 in /Users/prakanan/opt/miniconda3/lib/python3.8/site-packages (from ipykernel>=4.5.1->ipywidgets) (7.3.5)\n",
      "Requirement already satisfied: psutil in /Users/prakanan/opt/miniconda3/lib/python3.8/site-packages (from ipykernel>=4.5.1->ipywidgets) (5.9.0)\n",
      "Requirement already satisfied: pickleshare in /Users/prakanan/opt/miniconda3/lib/python3.8/site-packages (from ipython>=6.1.0->ipywidgets) (0.7.5)\n",
      "Requirement already satisfied: pygments>=2.4.0 in /Users/prakanan/opt/miniconda3/lib/python3.8/site-packages (from ipython>=6.1.0->ipywidgets) (2.11.2)\n",
      "Requirement already satisfied: decorator in /Users/prakanan/opt/miniconda3/lib/python3.8/site-packages (from ipython>=6.1.0->ipywidgets) (5.1.1)\n",
      "Requirement already satisfied: jedi>=0.16 in /Users/prakanan/opt/miniconda3/lib/python3.8/site-packages (from ipython>=6.1.0->ipywidgets) (0.18.1)\n",
      "Requirement already satisfied: setuptools>=18.5 in /Users/prakanan/opt/miniconda3/lib/python3.8/site-packages (from ipython>=6.1.0->ipywidgets) (65.5.0)\n",
      "Requirement already satisfied: pexpect>4.3 in /Users/prakanan/opt/miniconda3/lib/python3.8/site-packages (from ipython>=6.1.0->ipywidgets) (4.8.0)\n",
      "Requirement already satisfied: prompt-toolkit!=3.0.0,!=3.0.1,<3.1.0,>=2.0.0 in /Users/prakanan/opt/miniconda3/lib/python3.8/site-packages (from ipython>=6.1.0->ipywidgets) (3.0.20)\n",
      "Requirement already satisfied: stack-data in /Users/prakanan/opt/miniconda3/lib/python3.8/site-packages (from ipython>=6.1.0->ipywidgets) (0.2.0)\n",
      "Requirement already satisfied: backcall in /Users/prakanan/opt/miniconda3/lib/python3.8/site-packages (from ipython>=6.1.0->ipywidgets) (0.2.0)\n",
      "Requirement already satisfied: parso<0.9.0,>=0.8.0 in /Users/prakanan/opt/miniconda3/lib/python3.8/site-packages (from jedi>=0.16->ipython>=6.1.0->ipywidgets) (0.8.3)\n",
      "Requirement already satisfied: python-dateutil>=2.8.2 in /Users/prakanan/opt/miniconda3/lib/python3.8/site-packages (from jupyter-client>=6.1.12->ipykernel>=4.5.1->ipywidgets) (2.8.2)\n",
      "Requirement already satisfied: entrypoints in /Users/prakanan/opt/miniconda3/lib/python3.8/site-packages (from jupyter-client>=6.1.12->ipykernel>=4.5.1->ipywidgets) (0.4)\n",
      "Requirement already satisfied: jupyter-core>=4.9.2 in /Users/prakanan/opt/miniconda3/lib/python3.8/site-packages (from jupyter-client>=6.1.12->ipykernel>=4.5.1->ipywidgets) (4.11.1)\n",
      "Requirement already satisfied: ptyprocess>=0.5 in /Users/prakanan/opt/miniconda3/lib/python3.8/site-packages (from pexpect>4.3->ipython>=6.1.0->ipywidgets) (0.7.0)\n",
      "Requirement already satisfied: wcwidth in /Users/prakanan/opt/miniconda3/lib/python3.8/site-packages (from prompt-toolkit!=3.0.0,!=3.0.1,<3.1.0,>=2.0.0->ipython>=6.1.0->ipywidgets) (0.2.5)\n",
      "Requirement already satisfied: pyparsing!=3.0.5,>=2.0.2 in /Users/prakanan/opt/miniconda3/lib/python3.8/site-packages (from packaging->ipykernel>=4.5.1->ipywidgets) (3.0.9)\n",
      "Requirement already satisfied: pure-eval in /Users/prakanan/opt/miniconda3/lib/python3.8/site-packages (from stack-data->ipython>=6.1.0->ipywidgets) (0.2.2)\n",
      "Requirement already satisfied: asttokens in /Users/prakanan/opt/miniconda3/lib/python3.8/site-packages (from stack-data->ipython>=6.1.0->ipywidgets) (2.0.5)\n",
      "Requirement already satisfied: executing in /Users/prakanan/opt/miniconda3/lib/python3.8/site-packages (from stack-data->ipython>=6.1.0->ipywidgets) (0.8.3)\n",
      "Requirement already satisfied: six>=1.5 in /Users/prakanan/opt/miniconda3/lib/python3.8/site-packages (from python-dateutil>=2.8.2->jupyter-client>=6.1.12->ipykernel>=4.5.1->ipywidgets) (1.16.0)\n",
      "Installing collected packages: widgetsnbextension, jupyterlab-widgets, ipywidgets\n",
      "Successfully installed ipywidgets-8.0.4 jupyterlab-widgets-3.0.5 widgetsnbextension-4.0.5\n"
     ]
    }
   ],
   "source": [
    "!pip install ipywidgets"
   ]
  },
  {
   "cell_type": "code",
   "execution_count": 9,
   "id": "9741376a",
   "metadata": {},
   "outputs": [],
   "source": [
    "import torch"
   ]
  },
  {
   "cell_type": "code",
   "execution_count": 11,
   "id": "cb4e37ef",
   "metadata": {},
   "outputs": [
    {
     "name": "stdout",
     "output_type": "stream",
     "text": [
      "False\n"
     ]
    }
   ],
   "source": [
    "print(torch.cuda.is_available())"
   ]
  },
  {
   "cell_type": "markdown",
   "id": "55838614",
   "metadata": {},
   "source": [
    "### PyTorch as Derivate calculator"
   ]
  },
  {
   "cell_type": "code",
   "execution_count": 13,
   "id": "866d3e31",
   "metadata": {},
   "outputs": [],
   "source": [
    "# f(x1,x2,x3,x4) = x1**3x2 + x3x4"
   ]
  },
  {
   "cell_type": "code",
   "execution_count": 26,
   "id": "11564a7f",
   "metadata": {},
   "outputs": [],
   "source": [
    "def get_function(x1_val=0, x2_val=0, x3_val=0, x4_val=0):\n",
    "    #variables\n",
    "    x1 = torch.tensor(x1_val, requires_grad=True, dtype=torch.float32)\n",
    "    x2 = torch.tensor(x2_val, requires_grad=True, dtype=torch.float32)\n",
    "    x3 = torch.tensor(x3_val, requires_grad=True, dtype=torch.float32)\n",
    "    x4 = torch.tensor(x4_val, requires_grad=True, dtype=torch.float32)\n",
    "    #function\n",
    "    p1 = x1.pow(3)\n",
    "    m1 = p1 * x2\n",
    "    m2 = x3 * x4\n",
    "    f = m1 + m2\n",
    "    vars = {'x1': x1,'x2': x2, 'x3': x3, 'x4': x4}\n",
    "    return f, vars"
   ]
  },
  {
   "cell_type": "code",
   "execution_count": 15,
   "id": "c5dd7112",
   "metadata": {},
   "outputs": [],
   "source": [
    "f, _ = get_function(2,4,3,5)"
   ]
  },
  {
   "cell_type": "code",
   "execution_count": 16,
   "id": "0d6afc92",
   "metadata": {},
   "outputs": [
    {
     "data": {
      "text/plain": [
       "tensor(47., grad_fn=<AddBackward0>)"
      ]
     },
     "execution_count": 16,
     "metadata": {},
     "output_type": "execute_result"
    }
   ],
   "source": [
    "f"
   ]
  },
  {
   "cell_type": "code",
   "execution_count": 21,
   "id": "3caf2b0c",
   "metadata": {},
   "outputs": [
    {
     "data": {
      "text/plain": [
       "47.0"
      ]
     },
     "execution_count": 21,
     "metadata": {},
     "output_type": "execute_result"
    }
   ],
   "source": [
    "f.item()"
   ]
  },
  {
   "cell_type": "markdown",
   "id": "57c89ffa",
   "metadata": {},
   "source": [
    "In NN During backpropagation process, we find derivates $\\frac{\\partial f}{\\partial x}$ for each weight. It computes partial derivates of any multivariable function. The derivative of the coposite function is calculated using the chain rule:\n",
    "$[f(g(x))]'$ = $f'(g(x))$ * $g'(x)$."
   ]
  },
  {
   "cell_type": "code",
   "execution_count": 24,
   "id": "748aed54",
   "metadata": {},
   "outputs": [],
   "source": [
    "from torchviz import make_dot\n",
    "import matplotlib.pyplot as plt\n",
    "import matplotlib.image as mpimg"
   ]
  },
  {
   "cell_type": "code",
   "execution_count": 27,
   "id": "370fb01f",
   "metadata": {},
   "outputs": [],
   "source": [
    "f, params = get_function(2, 4, 3, 5)"
   ]
  },
  {
   "cell_type": "code",
   "execution_count": 28,
   "id": "61548032",
   "metadata": {},
   "outputs": [
    {
     "data": {
      "text/plain": [
       "tensor(47., grad_fn=<AddBackward0>)"
      ]
     },
     "execution_count": 28,
     "metadata": {},
     "output_type": "execute_result"
    }
   ],
   "source": [
    "f"
   ]
  },
  {
   "cell_type": "code",
   "execution_count": 29,
   "id": "c1392c42",
   "metadata": {},
   "outputs": [
    {
     "data": {
      "text/plain": [
       "{'x1': tensor(2., requires_grad=True),\n",
       " 'x2': tensor(4., requires_grad=True),\n",
       " 'x3': tensor(3., requires_grad=True),\n",
       " 'x4': tensor(5., requires_grad=True)}"
      ]
     },
     "execution_count": 29,
     "metadata": {},
     "output_type": "execute_result"
    }
   ],
   "source": [
    "params"
   ]
  },
  {
   "cell_type": "code",
   "execution_count": 33,
   "id": "1c056943",
   "metadata": {},
   "outputs": [
    {
     "data": {
      "text/plain": [
       "'f_torchviz.png.pdf'"
      ]
     },
     "execution_count": 33,
     "metadata": {},
     "output_type": "execute_result"
    }
   ],
   "source": [
    "make_dot(f, params).render('f_torchviz')"
   ]
  },
  {
   "cell_type": "code",
   "execution_count": 34,
   "id": "aacf4dd0",
   "metadata": {},
   "outputs": [
    {
     "data": {
      "image/png": "[encoded data removed]",
      "text/plain": [
       "<Figure size 640x480 with 1 Axes>"
      ]
     },
     "metadata": {},
     "output_type": "display_data"
    }
   ],
   "source": [
    "img = mpimg.imread('f_torchviz.png')\n",
    "plt.xticks([])\n",
    "plt.yticks([])\n",
    "plt.imshow(img)\n",
    "plt.show()"
   ]
  },
  {
   "cell_type": "markdown",
   "id": "ccdd6c7b",
   "metadata": {},
   "source": [
    "Calculate partial derivate $\\frac{\\partial f}{\\partial x1}$:"
   ]
  },
  {
   "cell_type": "code",
   "execution_count": null,
   "id": "7371d7aa",
   "metadata": {},
   "outputs": [],
   "source": [
    "# f(x1,x2,x3,x4) = x1**3x2 + x3x4 = 3x1**2.x2 = 3.2^2.4 = 48"
   ]
  },
  {
   "cell_type": "code",
   "execution_count": 41,
   "id": "50acf216",
   "metadata": {},
   "outputs": [],
   "source": [
    "from torch.autograd import grad\n",
    "f, params = get_function(2, 4, 3, 5)"
   ]
  },
  {
   "cell_type": "code",
   "execution_count": 42,
   "id": "d79d3508",
   "metadata": {},
   "outputs": [
    {
     "name": "stdout",
     "output_type": "stream",
     "text": [
      "tensor(47., grad_fn=<AddBackward0>)\n",
      "{'x1': tensor(2., requires_grad=True), 'x2': tensor(4., requires_grad=True), 'x3': tensor(3., requires_grad=True), 'x4': tensor(5., requires_grad=True)}\n"
     ]
    }
   ],
   "source": [
    "print(f)\n",
    "print(params)"
   ]
  },
  {
   "cell_type": "code",
   "execution_count": 43,
   "id": "b70afb7a",
   "metadata": {},
   "outputs": [
    {
     "name": "stdout",
     "output_type": "stream",
     "text": [
      "(tensor(48.),)\n"
     ]
    }
   ],
   "source": [
    "df_dx1 = grad(outputs=f, inputs=[params['x1']])\n",
    "print(df_dx1)"
   ]
  },
  {
   "cell_type": "code",
   "execution_count": 45,
   "id": "1328787b",
   "metadata": {},
   "outputs": [
    {
     "name": "stdout",
     "output_type": "stream",
     "text": [
      "(tensor(48.), tensor(8.), tensor(5.), tensor(3.))\n"
     ]
    }
   ],
   "source": [
    "f, params = get_function(2, 4, 3, 5)\n",
    "df_dx = grad(outputs=f, inputs=params.values())\n",
    "print(df_dx)"
   ]
  },
  {
   "cell_type": "markdown",
   "id": "bf79d827",
   "metadata": {},
   "source": [
    "### PyTorch Basics"
   ]
  },
  {
   "cell_type": "markdown",
   "id": "58282be0",
   "metadata": {},
   "source": [
    "Tensors : The main objects of PyTorch operations are tensors. It is a multi-dimensional matrix containing elements of a single data type."
   ]
  },
  {
   "cell_type": "markdown",
   "id": "2b9e603d",
   "metadata": {},
   "source": [
    "#### Tensor Creation"
   ]
  },
  {
   "cell_type": "code",
   "execution_count": 46,
   "id": "e28b20e6",
   "metadata": {},
   "outputs": [
    {
     "name": "stdout",
     "output_type": "stream",
     "text": [
      "tensor([1, 2, 3])\n"
     ]
    }
   ],
   "source": [
    "x = torch.tensor(data=[1, 2, 3])\n",
    "print(x)"
   ]
  },
  {
   "cell_type": "code",
   "execution_count": 47,
   "id": "cbef8611",
   "metadata": {},
   "outputs": [
    {
     "name": "stdout",
     "output_type": "stream",
     "text": [
      "tensor([[1, 2, 3],\n",
      "        [4, 5, 6]])\n"
     ]
    }
   ],
   "source": [
    "x = torch.tensor(data=[[1, 2, 3], [4, 5, 6]])\n",
    "print(x)"
   ]
  },
  {
   "cell_type": "code",
   "execution_count": 48,
   "id": "c48656ff",
   "metadata": {},
   "outputs": [
    {
     "name": "stdout",
     "output_type": "stream",
     "text": [
      "tensor([1.3000, 0.5000])\n"
     ]
    }
   ],
   "source": [
    "x = torch.tensor(data=[1.3, .5], dtype=torch.float32)\n",
    "print(x)"
   ]
  },
  {
   "cell_type": "code",
   "execution_count": 49,
   "id": "893ca189",
   "metadata": {},
   "outputs": [],
   "source": [
    "# If you want to take derivate on the tensor:\n",
    "x = torch.tensor(data=[1.3, .5], dtype=torch.float32, requires_grad=True)"
   ]
  },
  {
   "cell_type": "code",
   "execution_count": 50,
   "id": "cfbb4310",
   "metadata": {},
   "outputs": [
    {
     "data": {
      "text/plain": [
       "tensor([1.3000, 0.5000], requires_grad=True)"
      ]
     },
     "execution_count": 50,
     "metadata": {},
     "output_type": "execute_result"
    }
   ],
   "source": [
    "x"
   ]
  },
  {
   "cell_type": "code",
   "execution_count": 119,
   "id": "fb1b315d",
   "metadata": {},
   "outputs": [],
   "source": [
    "import numpy as np"
   ]
  },
  {
   "cell_type": "code",
   "execution_count": 120,
   "id": "e2172dd7",
   "metadata": {},
   "outputs": [
    {
     "data": {
      "text/plain": [
       "array([[0.82543207, 0.94212346, 0.145946  , 0.97396318],\n",
       "       [0.67519807, 0.59373419, 0.01320054, 0.76883132],\n",
       "       [0.16719915, 0.77464445, 0.2307833 , 0.27662111]])"
      ]
     },
     "execution_count": 120,
     "metadata": {},
     "output_type": "execute_result"
    }
   ],
   "source": [
    "numpy_array = np.random.rand(3,4)\n",
    "numpy_array"
   ]
  },
  {
   "cell_type": "code",
   "execution_count": 121,
   "id": "9efe047e",
   "metadata": {},
   "outputs": [
    {
     "data": {
      "text/plain": [
       "2"
      ]
     },
     "execution_count": 121,
     "metadata": {},
     "output_type": "execute_result"
    }
   ],
   "source": [
    "numpy_array.ndim"
   ]
  },
  {
   "cell_type": "code",
   "execution_count": 122,
   "id": "9df11555",
   "metadata": {},
   "outputs": [
    {
     "data": {
      "text/plain": [
       "tensor([[0.8254, 0.9421, 0.1459, 0.9740],\n",
       "        [0.6752, 0.5937, 0.0132, 0.7688],\n",
       "        [0.1672, 0.7746, 0.2308, 0.2766]], dtype=torch.float64)"
      ]
     },
     "execution_count": 122,
     "metadata": {},
     "output_type": "execute_result"
    }
   ],
   "source": [
    "torch.from_numpy(numpy_array)"
   ]
  },
  {
   "cell_type": "code",
   "execution_count": 123,
   "id": "b432db78",
   "metadata": {},
   "outputs": [
    {
     "data": {
      "text/plain": [
       "tensor([[0.8254, 0.9421, 0.1459, 0.9740],\n",
       "        [0.6752, 0.5937, 0.0132, 0.7688],\n",
       "        [0.1672, 0.7746, 0.2308, 0.2766]], dtype=torch.float64)"
      ]
     },
     "execution_count": 123,
     "metadata": {},
     "output_type": "execute_result"
    }
   ],
   "source": [
    "torch.tensor(numpy_array)"
   ]
  },
  {
   "cell_type": "code",
   "execution_count": 124,
   "id": "a632fa4e",
   "metadata": {},
   "outputs": [],
   "source": [
    "my_tensor = torch.rand(3, 4)"
   ]
  },
  {
   "cell_type": "code",
   "execution_count": 127,
   "id": "71e2e038",
   "metadata": {},
   "outputs": [
    {
     "name": "stdout",
     "output_type": "stream",
     "text": [
      "2\n",
      "torch.Size([3, 4])\n"
     ]
    }
   ],
   "source": [
    "print(my_tensor.ndim)\n",
    "print(my_tensor.size())"
   ]
  },
  {
   "cell_type": "code",
   "execution_count": 128,
   "id": "083f9134",
   "metadata": {},
   "outputs": [
    {
     "name": "stdout",
     "output_type": "stream",
     "text": [
      "torch.float32\n",
      "cpu\n"
     ]
    }
   ],
   "source": [
    "print(my_tensor.dtype)\n",
    "print(my_tensor.device)"
   ]
  },
  {
   "cell_type": "code",
   "execution_count": null,
   "id": "7bba2f15",
   "metadata": {},
   "outputs": [],
   "source": [
    "# to move from cpu to gpu\n",
    "# my_tensor = my_tensor.to(\"cuda\")"
   ]
  },
  {
   "cell_type": "code",
   "execution_count": 129,
   "id": "dccbde7f",
   "metadata": {},
   "outputs": [
    {
     "data": {
      "text/plain": [
       "tensor([[0.5695, 0.4388, 0.6387, 0.5247],\n",
       "        [0.6826, 0.3051, 0.4635, 0.4550],\n",
       "        [0.5725, 0.4980, 0.9371, 0.6556]])"
      ]
     },
     "execution_count": 129,
     "metadata": {},
     "output_type": "execute_result"
    }
   ],
   "source": [
    "my_tensor"
   ]
  },
  {
   "cell_type": "code",
   "execution_count": 131,
   "id": "2f89c560",
   "metadata": {},
   "outputs": [
    {
     "data": {
      "text/plain": [
       "tensor([[0.4388, 0.6387],\n",
       "        [0.3051, 0.4635],\n",
       "        [0.4980, 0.9371]])"
      ]
     },
     "execution_count": 131,
     "metadata": {},
     "output_type": "execute_result"
    }
   ],
   "source": [
    "my_tensor[:, 1:3]"
   ]
  },
  {
   "cell_type": "markdown",
   "id": "f04fe2cf",
   "metadata": {},
   "source": [
    "#### Random Tensor"
   ]
  },
  {
   "cell_type": "markdown",
   "id": "fc51a9b5",
   "metadata": {},
   "source": [
    "A deep learning model initiates with random sets of weights. "
   ]
  },
  {
   "cell_type": "code",
   "execution_count": 78,
   "id": "53b2b163",
   "metadata": {},
   "outputs": [
    {
     "name": "stdout",
     "output_type": "stream",
     "text": [
      "tensor([[[0.1834, 0.9080, 0.5626],\n",
      "         [0.7362, 0.9753, 0.5969],\n",
      "         [0.3892, 0.4088, 0.0898]]])\n"
     ]
    }
   ],
   "source": [
    "# Random 3-D tensor\n",
    "x = torch.rand(1, 3, 3)\n",
    "print(x)"
   ]
  },
  {
   "cell_type": "code",
   "execution_count": 79,
   "id": "97586140",
   "metadata": {},
   "outputs": [
    {
     "name": "stdout",
     "output_type": "stream",
     "text": [
      "Dimension:  3\n",
      "Shape:  torch.Size([1, 3, 3])\n"
     ]
    }
   ],
   "source": [
    "print(f'Dimension: ', x.ndim)\n",
    "print(f'Shape: ',x.shape)"
   ]
  },
  {
   "cell_type": "code",
   "execution_count": 80,
   "id": "b8ff0ff2",
   "metadata": {},
   "outputs": [
    {
     "data": {
      "text/plain": [
       "<torch._C.Generator at 0x7fb74e655ed0>"
      ]
     },
     "execution_count": 80,
     "metadata": {},
     "output_type": "execute_result"
    }
   ],
   "source": [
    "torch.manual_seed(1)"
   ]
  },
  {
   "cell_type": "markdown",
   "id": "c6303ce9",
   "metadata": {},
   "source": [
    "#### Common tensor types"
   ]
  },
  {
   "cell_type": "markdown",
   "id": "69439559",
   "metadata": {},
   "source": [
    "##### Zeros"
   ]
  },
  {
   "cell_type": "code",
   "execution_count": 81,
   "id": "0d1f1e9a",
   "metadata": {},
   "outputs": [
    {
     "name": "stdout",
     "output_type": "stream",
     "text": [
      "tensor([[0., 0.],\n",
      "        [0., 0.]])\n"
     ]
    }
   ],
   "source": [
    "x = torch.zeros((2,2))\n",
    "print(x)"
   ]
  },
  {
   "cell_type": "code",
   "execution_count": 85,
   "id": "7a733f34",
   "metadata": {},
   "outputs": [
    {
     "name": "stdout",
     "output_type": "stream",
     "text": [
      "tensor([[0., 0.],\n",
      "        [0., 0.],\n",
      "        [0., 0.],\n",
      "        [0., 0.],\n",
      "        [0., 0.]])\n"
     ]
    }
   ],
   "source": [
    "x = torch.zeros((5,2))\n",
    "print(x)"
   ]
  },
  {
   "cell_type": "markdown",
   "id": "467e64f2",
   "metadata": {},
   "source": [
    "##### Ones"
   ]
  },
  {
   "cell_type": "code",
   "execution_count": 86,
   "id": "b3e6918c",
   "metadata": {},
   "outputs": [
    {
     "name": "stdout",
     "output_type": "stream",
     "text": [
      "tensor([[1., 1.],\n",
      "        [1., 1.],\n",
      "        [1., 1.],\n",
      "        [1., 1.],\n",
      "        [1., 1.]])\n"
     ]
    }
   ],
   "source": [
    "x = torch.ones((5,2))\n",
    "print(x)"
   ]
  },
  {
   "cell_type": "markdown",
   "id": "619971c1",
   "metadata": {},
   "source": [
    "##### eye - Identity tensor"
   ]
  },
  {
   "cell_type": "code",
   "execution_count": 89,
   "id": "8cea65ae",
   "metadata": {},
   "outputs": [
    {
     "name": "stdout",
     "output_type": "stream",
     "text": [
      "tensor([[1., 0., 0., 0.],\n",
      "        [0., 1., 0., 0.],\n",
      "        [0., 0., 1., 0.],\n",
      "        [0., 0., 0., 1.]])\n"
     ]
    }
   ],
   "source": [
    "x = torch.eye(4)\n",
    "print(x)"
   ]
  },
  {
   "cell_type": "markdown",
   "id": "eea2e491",
   "metadata": {},
   "source": [
    "#### Tensor methods and attributes"
   ]
  },
  {
   "cell_type": "markdown",
   "id": "dcce1858",
   "metadata": {},
   "source": [
    "##### reshape"
   ]
  },
  {
   "cell_type": "code",
   "execution_count": 95,
   "id": "8e942933",
   "metadata": {},
   "outputs": [
    {
     "name": "stdout",
     "output_type": "stream",
     "text": [
      "tensor([1, 2, 3, 4])\n",
      "1\n",
      "torch.Size([4])\n",
      "torch.Size([4])\n"
     ]
    }
   ],
   "source": [
    "x = torch.tensor([1, 2, 3, 4])\n",
    "print(x)\n",
    "print(x.ndim)\n",
    "print(x.shape)\n",
    "print(x.size())"
   ]
  },
  {
   "cell_type": "code",
   "execution_count": 96,
   "id": "2428a6e6",
   "metadata": {},
   "outputs": [
    {
     "name": "stdout",
     "output_type": "stream",
     "text": [
      "tensor([[1, 2],\n",
      "        [3, 4]])\n",
      "2\n",
      "torch.Size([2, 2])\n",
      "torch.Size([2, 2])\n"
     ]
    }
   ],
   "source": [
    "y = x.reshape((2,2))\n",
    "print(y)\n",
    "print(y.ndim)\n",
    "print(y.shape)\n",
    "print(y.size())"
   ]
  },
  {
   "cell_type": "markdown",
   "id": "ef5cfa81",
   "metadata": {},
   "source": [
    "##### tolist, backward"
   ]
  },
  {
   "cell_type": "code",
   "execution_count": 97,
   "id": "181a4651",
   "metadata": {},
   "outputs": [
    {
     "data": {
      "text/plain": [
       "tensor([[1, 2],\n",
       "        [3, 4]])"
      ]
     },
     "execution_count": 97,
     "metadata": {},
     "output_type": "execute_result"
    }
   ],
   "source": [
    "x = torch.tensor([[1, 2], [3, 4]])\n",
    "x"
   ]
  },
  {
   "cell_type": "code",
   "execution_count": 102,
   "id": "e5a31019",
   "metadata": {},
   "outputs": [
    {
     "name": "stdout",
     "output_type": "stream",
     "text": [
      "[[1, 2], [3, 4]]\n",
      "<class 'list'>\n"
     ]
    }
   ],
   "source": [
    "y = x.tolist()\n",
    "print(y)\n",
    "print(type(y))"
   ]
  },
  {
   "cell_type": "code",
   "execution_count": 108,
   "id": "2d523293",
   "metadata": {},
   "outputs": [],
   "source": [
    "x = torch.tensor(data=[3], dtype=torch.float32, requires_grad=True)\n",
    "f = x.pow(2)"
   ]
  },
  {
   "cell_type": "code",
   "execution_count": 109,
   "id": "fe5120c2",
   "metadata": {},
   "outputs": [
    {
     "data": {
      "text/plain": [
       "tensor([9.], grad_fn=<PowBackward0>)"
      ]
     },
     "execution_count": 109,
     "metadata": {},
     "output_type": "execute_result"
    }
   ],
   "source": [
    "f"
   ]
  },
  {
   "cell_type": "code",
   "execution_count": 110,
   "id": "3211cb40",
   "metadata": {},
   "outputs": [],
   "source": [
    "f.backward()"
   ]
  },
  {
   "cell_type": "code",
   "execution_count": 111,
   "id": "a85dadd0",
   "metadata": {},
   "outputs": [
    {
     "data": {
      "text/plain": [
       "6.0"
      ]
     },
     "execution_count": 111,
     "metadata": {},
     "output_type": "execute_result"
    }
   ],
   "source": [
    "x.grad.item()"
   ]
  },
  {
   "cell_type": "markdown",
   "id": "9823363c",
   "metadata": {},
   "source": [
    "#### Math Functions"
   ]
  },
  {
   "cell_type": "markdown",
   "id": "0cebd537",
   "metadata": {},
   "source": [
    "abs : Computes absolute value for each element in tensor\n",
    "\n",
    "add : Adds a scalar to each element of a tensor\n",
    "\n",
    "ceil : Retruns a nw tensor with the smallest integer greater than or equal to each element of a tensor\n",
    "\n",
    "dist : Returns the p-norm between 2 tensors. If p=2, then dist returns Euclidian norm\n",
    "\n",
    "div : Divides each elements of the tesor\n",
    "\n",
    "eq : Computes element-wise equality\n",
    "\n",
    "floor : Returns a new tensor with te largest integer less than or equal to each element of a tenssor\n",
    "\n",
    "mean : Returns mean value of all elements in the tensor\n",
    "\n",
    "pow : Takes power of each element in the tensor\n",
    "\n",
    "max : Returns the max value of all elements in the tensor\n",
    "\n",
    "min : Return the min values of all elements in the tensor\n",
    "\n",
    "round : Returns a new tensor with each of the elements of the tensor rounded to the closest integer\n",
    "\n",
    "sign : Returns a new tensor with the signs of the elements of input tensor\n",
    "\n",
    "sum :  Returns the sum of all elements in the input tensor"
   ]
  },
  {
   "cell_type": "code",
   "execution_count": 132,
   "id": "74fa4eda",
   "metadata": {},
   "outputs": [
    {
     "data": {
      "text/plain": [
       "tensor([[0.3243, 0.1925, 0.4079, 0.2753],\n",
       "        [0.4660, 0.0931, 0.2149, 0.2070],\n",
       "        [0.3277, 0.2480, 0.8781, 0.4298]])"
      ]
     },
     "execution_count": 132,
     "metadata": {},
     "output_type": "execute_result"
    }
   ],
   "source": [
    "my_tensor.mul(my_tensor)"
   ]
  },
  {
   "cell_type": "code",
   "execution_count": 133,
   "id": "71b7b1fa",
   "metadata": {},
   "outputs": [
    {
     "data": {
      "text/plain": [
       "tensor([[1.2001, 1.0574, 1.4870],\n",
       "        [1.0574, 0.9810, 1.2754],\n",
       "        [1.4870, 1.2754, 1.8837]])"
      ]
     },
     "execution_count": 133,
     "metadata": {},
     "output_type": "execute_result"
    }
   ],
   "source": [
    "my_tensor.matmul(my_tensor.T)"
   ]
  },
  {
   "cell_type": "code",
   "execution_count": 135,
   "id": "b80aede5",
   "metadata": {},
   "outputs": [
    {
     "data": {
      "text/plain": [
       "tensor([[1.2001, 1.0574, 1.4870],\n",
       "        [1.0574, 0.9810, 1.2754],\n",
       "        [1.4870, 1.2754, 1.8837]])"
      ]
     },
     "execution_count": 135,
     "metadata": {},
     "output_type": "execute_result"
    }
   ],
   "source": [
    "torch.matmul(my_tensor, my_tensor.T)"
   ]
  },
  {
   "cell_type": "code",
   "execution_count": 136,
   "id": "a0497998",
   "metadata": {},
   "outputs": [
    {
     "data": {
      "text/plain": [
       "tensor([[1.2001, 1.0574, 1.4870],\n",
       "        [1.0574, 0.9810, 1.2754],\n",
       "        [1.4870, 1.2754, 1.8837]])"
      ]
     },
     "execution_count": 136,
     "metadata": {},
     "output_type": "execute_result"
    }
   ],
   "source": [
    "my_tensor @ my_tensor.T"
   ]
  },
  {
   "cell_type": "code",
   "execution_count": 137,
   "id": "7f4bdf72",
   "metadata": {},
   "outputs": [
    {
     "data": {
      "text/plain": [
       "tensor([[0.5695, 0.4388, 0.6387, 0.5247],\n",
       "        [0.6826, 0.3051, 0.4635, 0.4550],\n",
       "        [0.5725, 0.4980, 0.9371, 0.6556]])"
      ]
     },
     "execution_count": 137,
     "metadata": {},
     "output_type": "execute_result"
    }
   ],
   "source": [
    "my_tensor"
   ]
  },
  {
   "cell_type": "code",
   "execution_count": 139,
   "id": "c28ba67a",
   "metadata": {},
   "outputs": [
    {
     "data": {
      "text/plain": [
       "tensor([[0.5695, 0.4388, 0.6387, 0.5247],\n",
       "        [0.6826, 0.3051, 0.4635, 0.4550],\n",
       "        [0.5725, 0.4980, 0.9371, 0.6556],\n",
       "        [0.5695, 0.4388, 0.6387, 0.5247],\n",
       "        [0.6826, 0.3051, 0.4635, 0.4550],\n",
       "        [0.5725, 0.4980, 0.9371, 0.6556]])"
      ]
     },
     "execution_count": 139,
     "metadata": {},
     "output_type": "execute_result"
    }
   ],
   "source": [
    "# concatenate tensor - row wise\n",
    "torch.cat([my_tensor, my_tensor], axis=0)"
   ]
  },
  {
   "cell_type": "code",
   "execution_count": 140,
   "id": "8f92720e",
   "metadata": {},
   "outputs": [
    {
     "data": {
      "text/plain": [
       "tensor([[0.5695, 0.4388, 0.6387, 0.5247, 0.5695, 0.4388, 0.6387, 0.5247],\n",
       "        [0.6826, 0.3051, 0.4635, 0.4550, 0.6826, 0.3051, 0.4635, 0.4550],\n",
       "        [0.5725, 0.4980, 0.9371, 0.6556, 0.5725, 0.4980, 0.9371, 0.6556]])"
      ]
     },
     "execution_count": 140,
     "metadata": {},
     "output_type": "execute_result"
    }
   ],
   "source": [
    "# concatenate tensor - column wise\n",
    "torch.cat([my_tensor, my_tensor], axis=1)"
   ]
  },
  {
   "cell_type": "markdown",
   "id": "c53c8f92",
   "metadata": {},
   "source": [
    "##### PyTorch Autograd"
   ]
  },
  {
   "cell_type": "code",
   "execution_count": 158,
   "id": "e848e7c0",
   "metadata": {},
   "outputs": [],
   "source": [
    "W = torch.randn(10, 1, requires_grad=True)\n",
    "b = torch.randn(1, requires_grad=True)"
   ]
  },
  {
   "cell_type": "code",
   "execution_count": 159,
   "id": "e40ca581",
   "metadata": {},
   "outputs": [
    {
     "data": {
      "text/plain": [
       "tensor([[ 0.5423],\n",
       "        [-0.6331],\n",
       "        [ 0.8795],\n",
       "        [-0.6842],\n",
       "        [ 0.4533],\n",
       "        [ 0.2912],\n",
       "        [-0.8317],\n",
       "        [-0.5525],\n",
       "        [ 0.6355],\n",
       "        [-0.3968]], requires_grad=True)"
      ]
     },
     "execution_count": 159,
     "metadata": {},
     "output_type": "execute_result"
    }
   ],
   "source": [
    "W"
   ]
  },
  {
   "cell_type": "code",
   "execution_count": 160,
   "id": "4e1c7e41",
   "metadata": {},
   "outputs": [
    {
     "data": {
      "text/plain": [
       "tensor([-0.6571], requires_grad=True)"
      ]
     },
     "execution_count": 160,
     "metadata": {},
     "output_type": "execute_result"
    }
   ],
   "source": [
    "b"
   ]
  },
  {
   "cell_type": "code",
   "execution_count": 161,
   "id": "52f86c2a",
   "metadata": {},
   "outputs": [
    {
     "data": {
      "text/plain": [
       "tensor([[0.1768, 0.0748, 0.9799, 0.5261, 0.8427, 0.6036, 0.6608, 0.8735, 0.9741,\n",
       "         0.1682]])"
      ]
     },
     "execution_count": 161,
     "metadata": {},
     "output_type": "execute_result"
    }
   ],
   "source": [
    "# 1 sample with 10 features\n",
    "x = torch.rand(1, 10)\n",
    "x"
   ]
  },
  {
   "cell_type": "code",
   "execution_count": 162,
   "id": "30b67f13",
   "metadata": {},
   "outputs": [
    {
     "data": {
      "text/plain": [
       "tensor([[-0.0288]], grad_fn=<AddBackward0>)"
      ]
     },
     "execution_count": 162,
     "metadata": {},
     "output_type": "execute_result"
    }
   ],
   "source": [
    "# simple linear regression\n",
    "output = torch.matmul(x, W) + b\n",
    "output"
   ]
  },
  {
   "cell_type": "code",
   "execution_count": 163,
   "id": "3b186db7",
   "metadata": {},
   "outputs": [
    {
     "data": {
      "text/plain": [
       "tensor([[1.0288]], grad_fn=<RsubBackward1>)"
      ]
     },
     "execution_count": 163,
     "metadata": {},
     "output_type": "execute_result"
    }
   ],
   "source": [
    "loss = 1 - output\n",
    "loss"
   ]
  },
  {
   "cell_type": "code",
   "execution_count": 164,
   "id": "011609e6",
   "metadata": {},
   "outputs": [],
   "source": [
    "loss.backward()"
   ]
  },
  {
   "cell_type": "code",
   "execution_count": 165,
   "id": "6aeb4e7f",
   "metadata": {},
   "outputs": [
    {
     "data": {
      "text/plain": [
       "tensor([[ 0.5423],\n",
       "        [-0.6331],\n",
       "        [ 0.8795],\n",
       "        [-0.6842],\n",
       "        [ 0.4533],\n",
       "        [ 0.2912],\n",
       "        [-0.8317],\n",
       "        [-0.5525],\n",
       "        [ 0.6355],\n",
       "        [-0.3968]], requires_grad=True)"
      ]
     },
     "execution_count": 165,
     "metadata": {},
     "output_type": "execute_result"
    }
   ],
   "source": [
    "W"
   ]
  },
  {
   "cell_type": "code",
   "execution_count": 166,
   "id": "0243b259",
   "metadata": {},
   "outputs": [
    {
     "data": {
      "text/plain": [
       "tensor([[-0.1768],\n",
       "        [-0.0748],\n",
       "        [-0.9799],\n",
       "        [-0.5261],\n",
       "        [-0.8427],\n",
       "        [-0.6036],\n",
       "        [-0.6608],\n",
       "        [-0.8735],\n",
       "        [-0.9741],\n",
       "        [-0.1682]])"
      ]
     },
     "execution_count": 166,
     "metadata": {},
     "output_type": "execute_result"
    }
   ],
   "source": [
    "W.grad"
   ]
  },
  {
   "cell_type": "code",
   "execution_count": 167,
   "id": "f700fe2a",
   "metadata": {},
   "outputs": [],
   "source": [
    "# W = W - learning_rate * W.grad.data"
   ]
  },
  {
   "cell_type": "code",
   "execution_count": 168,
   "id": "5e2c4f9e",
   "metadata": {},
   "outputs": [],
   "source": [
    "with torch.no_grad():\n",
    "    W = W - 0.001 * W.grad.data"
   ]
  },
  {
   "cell_type": "code",
   "execution_count": 169,
   "id": "22357c47",
   "metadata": {},
   "outputs": [
    {
     "data": {
      "text/plain": [
       "tensor([[ 0.5425],\n",
       "        [-0.6330],\n",
       "        [ 0.8805],\n",
       "        [-0.6837],\n",
       "        [ 0.4541],\n",
       "        [ 0.2918],\n",
       "        [-0.8311],\n",
       "        [-0.5516],\n",
       "        [ 0.6365],\n",
       "        [-0.3966]])"
      ]
     },
     "execution_count": 169,
     "metadata": {},
     "output_type": "execute_result"
    }
   ],
   "source": [
    "W"
   ]
  },
  {
   "cell_type": "markdown",
   "id": "563e2998",
   "metadata": {},
   "source": [
    "#### Custom Dataset Class in PyTorch"
   ]
  },
  {
   "cell_type": "code",
   "execution_count": 171,
   "id": "52500ab5",
   "metadata": {},
   "outputs": [],
   "source": [
    "import torch\n",
    "from sklearn.datasets import make_classification"
   ]
  },
  {
   "cell_type": "code",
   "execution_count": 172,
   "id": "901bc7e6",
   "metadata": {},
   "outputs": [],
   "source": [
    "class CutsomDataset:\n",
    "    def __init__(self, data, targets):\n",
    "        self.data = data\n",
    "        self.targets = targets\n",
    "    def __len__(self):\n",
    "        return self.data.shape[0]\n",
    "    def __getitem__(self, idx):\n",
    "        current_sample = self.data[idx, :]\n",
    "        current_target = self.targets[idx]\n",
    "        return {\n",
    "            'x' : torch.tensor(current_sample, dtype=torch.float32),\n",
    "            'y' : torch.tensor(current_target, dtype=torch.long),\n",
    "        }"
   ]
  },
  {
   "cell_type": "code",
   "execution_count": 173,
   "id": "c40cea42",
   "metadata": {},
   "outputs": [],
   "source": [
    "?make_classification"
   ]
  },
  {
   "cell_type": "code",
   "execution_count": 174,
   "id": "96ae173b",
   "metadata": {},
   "outputs": [],
   "source": [
    "data, targets = make_classification(n_samples=1000)"
   ]
  },
  {
   "cell_type": "code",
   "execution_count": 175,
   "id": "1847ea94",
   "metadata": {},
   "outputs": [
    {
     "name": "stdout",
     "output_type": "stream",
     "text": [
      "<class 'numpy.ndarray'>\n",
      "<class 'numpy.ndarray'>\n"
     ]
    }
   ],
   "source": [
    "print(type(data))\n",
    "print(type(targets))"
   ]
  },
  {
   "cell_type": "code",
   "execution_count": 177,
   "id": "cb9c8209",
   "metadata": {},
   "outputs": [
    {
     "name": "stdout",
     "output_type": "stream",
     "text": [
      "(1000, 20)\n",
      "(1000,)\n"
     ]
    }
   ],
   "source": [
    "print(data.shape)\n",
    "print(targets.shape)"
   ]
  },
  {
   "cell_type": "code",
   "execution_count": 178,
   "id": "ea10300f",
   "metadata": {},
   "outputs": [],
   "source": [
    "custom_dataset = CutsomDataset(data=data, targets=targets)"
   ]
  },
  {
   "cell_type": "code",
   "execution_count": 179,
   "id": "c8dc4572",
   "metadata": {},
   "outputs": [
    {
     "data": {
      "text/plain": [
       "<__main__.CutsomDataset at 0x7fb73b717130>"
      ]
     },
     "execution_count": 179,
     "metadata": {},
     "output_type": "execute_result"
    }
   ],
   "source": [
    "custom_dataset"
   ]
  },
  {
   "cell_type": "code",
   "execution_count": 180,
   "id": "61a7d8d6",
   "metadata": {},
   "outputs": [
    {
     "data": {
      "text/plain": [
       "1000"
      ]
     },
     "execution_count": 180,
     "metadata": {},
     "output_type": "execute_result"
    }
   ],
   "source": [
    "len(custom_dataset)"
   ]
  },
  {
   "cell_type": "code",
   "execution_count": 181,
   "id": "cfae94d3",
   "metadata": {},
   "outputs": [
    {
     "data": {
      "text/plain": [
       "{'x': tensor([ 1.9448, -1.9213, -1.1161, -0.7077, -2.9295,  1.0599,  0.0129,  0.6626,\n",
       "          1.0206, -1.6225,  0.1020,  1.3228,  1.1452, -0.3788,  1.2708, -0.5961,\n",
       "         -0.9810,  1.6299,  1.3783, -1.4795]),\n",
       " 'y': tensor(0)}"
      ]
     },
     "execution_count": 181,
     "metadata": {},
     "output_type": "execute_result"
    }
   ],
   "source": [
    "custom_dataset[0]"
   ]
  },
  {
   "cell_type": "code",
   "execution_count": 182,
   "id": "f0fa8821",
   "metadata": {},
   "outputs": [
    {
     "data": {
      "text/plain": [
       "tensor(0)"
      ]
     },
     "execution_count": 182,
     "metadata": {},
     "output_type": "execute_result"
    }
   ],
   "source": [
    "custom_dataset[0]['y']"
   ]
  },
  {
   "cell_type": "code",
   "execution_count": null,
   "id": "da6cde85",
   "metadata": {},
   "outputs": [],
   "source": []
  },
  {
   "cell_type": "markdown",
   "id": "f2416605",
   "metadata": {},
   "source": [
    "#### Custom Dataset class for simple NLP problems in PyTorch"
   ]
  },
  {
   "cell_type": "code",
   "execution_count": null,
   "id": "3af31de3",
   "metadata": {},
   "outputs": [],
   "source": [
    "class CutsomDatasetNLP:\n",
    "    def __init__(self, data, targets, tokenizer):\n",
    "        self.data = data\n",
    "        self.targets = targets\n",
    "        self.tokenizer = tokenizer\n",
    "    def __len__(self):\n",
    "        return self.data.shape[0]\n",
    "    def __getitem__(self, idx):\n",
    "        text = self.data[idx]\n",
    "        target = self.targets[idx]\n",
    "            \n",
    "        input_ids = tokenizer(text)\n",
    "        \n",
    "        return {\n",
    "            \"text\": torch.tensor(input_ids, dtype=torch.long),\n",
    "            \"target\": torch.tensor(target, dtype=torch.long)\n",
    "        }"
   ]
  },
  {
   "cell_type": "markdown",
   "id": "a17bc5bd",
   "metadata": {},
   "source": [
    "#### Linear regression model in PyTorch"
   ]
  },
  {
   "cell_type": "code",
   "execution_count": 12,
   "id": "3cf2d384",
   "metadata": {},
   "outputs": [],
   "source": [
    "import torch\n",
    "from sklearn.model_selection import train_test_split\n",
    "from sklearn.datasets import make_classification"
   ]
  },
  {
   "cell_type": "code",
   "execution_count": 13,
   "id": "3338184e",
   "metadata": {},
   "outputs": [],
   "source": [
    "class CutsomDataset:\n",
    "    def __init__(self, data, targets):\n",
    "        self.data = data\n",
    "        self.targets = targets\n",
    "    def __len__(self):\n",
    "        return self.data.shape[0]\n",
    "    def __getitem__(self, idx):\n",
    "        current_sample = self.data[idx, :]\n",
    "        current_target = self.targets[idx]\n",
    "        return {\n",
    "            'x' : torch.tensor(current_sample, dtype=torch.float32),\n",
    "            'y' : torch.tensor(current_target, dtype=torch.long),\n",
    "        }"
   ]
  },
  {
   "cell_type": "code",
   "execution_count": 14,
   "id": "55bab6bc",
   "metadata": {},
   "outputs": [],
   "source": [
    "data, targets = make_classification(n_samples=1000)\n",
    "train_data, test_data, train_targets, test_targets = train_test_split(\n",
    "    data\n",
    "    , targets\n",
    "    , stratify=targets) "
   ]
  },
  {
   "cell_type": "code",
   "execution_count": 15,
   "id": "bc5bd095",
   "metadata": {},
   "outputs": [],
   "source": [
    "train_dataset = CutsomDataset(train_data, train_targets)\n",
    "test_dataset = CutsomDataset(test_data, test_targets)"
   ]
  },
  {
   "cell_type": "code",
   "execution_count": 16,
   "id": "9a2ff2fe",
   "metadata": {},
   "outputs": [],
   "source": [
    "train_loader = torch.utils.data.DataLoader(\n",
    "    train_dataset, batch_size=4, num_workers=0\n",
    ")"
   ]
  },
  {
   "cell_type": "code",
   "execution_count": 17,
   "id": "24da4481",
   "metadata": {},
   "outputs": [
    {
     "data": {
      "text/plain": [
       "<torch.utils.data.dataloader.DataLoader at 0x7f9d36b80340>"
      ]
     },
     "execution_count": 17,
     "metadata": {},
     "output_type": "execute_result"
    }
   ],
   "source": [
    "train_loader"
   ]
  },
  {
   "cell_type": "code",
   "execution_count": 18,
   "id": "5782fe15",
   "metadata": {},
   "outputs": [],
   "source": [
    "test_loader = torch.utils.data.DataLoader(\n",
    "    test_dataset, batch_size=4, num_workers=0\n",
    ")"
   ]
  },
  {
   "cell_type": "code",
   "execution_count": 19,
   "id": "c1703d59",
   "metadata": {},
   "outputs": [],
   "source": [
    "model = lambda x, w, b: torch.matmul(x, w) + b"
   ]
  },
  {
   "cell_type": "code",
   "execution_count": 20,
   "id": "f29858a4",
   "metadata": {},
   "outputs": [
    {
     "data": {
      "text/plain": [
       "(750, 20)"
      ]
     },
     "execution_count": 20,
     "metadata": {},
     "output_type": "execute_result"
    }
   ],
   "source": [
    "train_data.shape"
   ]
  },
  {
   "cell_type": "code",
   "execution_count": 33,
   "id": "b92e57d4",
   "metadata": {},
   "outputs": [
    {
     "data": {
      "text/plain": [
       "(250, 20)"
      ]
     },
     "execution_count": 33,
     "metadata": {},
     "output_type": "execute_result"
    }
   ],
   "source": [
    "test_data.shape"
   ]
  },
  {
   "cell_type": "code",
   "execution_count": 22,
   "id": "1c879f45",
   "metadata": {},
   "outputs": [
    {
     "name": "stdout",
     "output_type": "stream",
     "text": [
      "0 15.705613790674413\n",
      "1 7.21133871566742\n",
      "2 3.4077655913981983\n",
      "3 1.6666159897725632\n",
      "4 0.8552633828305184\n",
      "5 0.47133103720447483\n",
      "6 0.28716246575176557\n",
      "7 0.19772355997578261\n",
      "8 0.15379382024439883\n",
      "9 0.13198748469709398\n"
     ]
    }
   ],
   "source": [
    "W = torch.randn(20, 1, requires_grad=True)\n",
    "b = torch.randn(1, requires_grad=True)\n",
    "learning_rate = 0.001\n",
    "\n",
    "for epoch in range(10):\n",
    "    epoch_loss = 0\n",
    "    counter = 0\n",
    "    for data in train_loader:\n",
    "        x_train = data[\"x\"]\n",
    "        y_train = data[\"y\"]\n",
    "        \n",
    "        output = model(x_train, W, b)\n",
    "        loss = torch.mean((y_train.view(-1) - output.view(-1))**2)\n",
    "        epoch_loss += loss.item()\n",
    "        loss.backward()\n",
    "        \n",
    "        with torch.no_grad():\n",
    "            W = W - learning_rate * W.grad\n",
    "            b = b - learning_rate * b.grad\n",
    "        \n",
    "        W.requires_grad_(True)\n",
    "        b.requires_grad_(True)\n",
    "        counter += 1\n",
    "        \n",
    "    print(epoch, epoch_loss/counter)"
   ]
  },
  {
   "cell_type": "code",
   "execution_count": 23,
   "id": "e6d0c7dc",
   "metadata": {},
   "outputs": [
    {
     "data": {
      "text/plain": [
       "tensor([[ 0.0377],\n",
       "        [-0.8532],\n",
       "        [-0.0154],\n",
       "        [ 0.0222],\n",
       "        [ 0.0106],\n",
       "        [ 0.0398],\n",
       "        [ 0.0274],\n",
       "        [-0.0284],\n",
       "        [-0.0287],\n",
       "        [-0.0283],\n",
       "        [ 0.1945],\n",
       "        [ 0.0258],\n",
       "        [-0.0412],\n",
       "        [-0.0185],\n",
       "        [ 0.0311],\n",
       "        [-0.0170],\n",
       "        [-0.0464],\n",
       "        [-0.0340],\n",
       "        [ 0.0616],\n",
       "        [ 0.5888]], requires_grad=True)"
      ]
     },
     "execution_count": 23,
     "metadata": {},
     "output_type": "execute_result"
    }
   ],
   "source": [
    "W"
   ]
  },
  {
   "cell_type": "code",
   "execution_count": 24,
   "id": "ab022286",
   "metadata": {},
   "outputs": [
    {
     "data": {
      "text/plain": [
       "tensor([0.4859], requires_grad=True)"
      ]
     },
     "execution_count": 24,
     "metadata": {},
     "output_type": "execute_result"
    }
   ],
   "source": [
    "b"
   ]
  },
  {
   "cell_type": "code",
   "execution_count": 25,
   "id": "915c823b",
   "metadata": {},
   "outputs": [],
   "source": [
    "outputs = []\n",
    "labels = []\n",
    "with torch.no_grad():\n",
    "    for data in test_loader:\n",
    "        x_test = data[\"x\"]\n",
    "        y_test = data[\"y\"]\n",
    "        \n",
    "        output = model(x_test, W, b)\n",
    "        labels.append(y_test)\n",
    "        outputs.append(output)"
   ]
  },
  {
   "cell_type": "code",
   "execution_count": 31,
   "id": "8af558e6",
   "metadata": {},
   "outputs": [
    {
     "data": {
      "text/plain": [
       "tensor([[ 0.8519,  1.5694, -0.0678, -1.4626,  1.1651, -0.3877,  0.8998, -0.4052,\n",
       "         -1.8880,  2.1721, -1.7899, -0.2382,  0.2414,  1.8124,  1.0697,  0.1130,\n",
       "         -3.0013, -0.3669,  0.5340,  2.1776],\n",
       "        [-0.8811, -0.5784,  0.2422,  0.3454,  0.0527,  0.1919,  0.9888,  0.6675,\n",
       "         -1.1311,  0.9075, -0.0160,  0.4508,  0.8970, -1.6587,  0.0230,  0.8854,\n",
       "         -0.4367,  1.3838,  1.5841, -0.9840]])"
      ]
     },
     "execution_count": 31,
     "metadata": {},
     "output_type": "execute_result"
    }
   ],
   "source": [
    "x_test"
   ]
  },
  {
   "cell_type": "code",
   "execution_count": 32,
   "id": "d09139c7",
   "metadata": {},
   "outputs": [
    {
     "data": {
      "text/plain": [
       "torch.Size([2, 20])"
      ]
     },
     "execution_count": 32,
     "metadata": {},
     "output_type": "execute_result"
    }
   ],
   "source": [
    "x_test.size()"
   ]
  },
  {
   "cell_type": "code",
   "execution_count": 35,
   "id": "05ae7f51",
   "metadata": {},
   "outputs": [
    {
     "data": {
      "text/plain": [
       "array([ 0.85189361,  1.56936477, -0.06783741, -1.46261222,  1.16511928,\n",
       "       -0.38767829,  0.89977191, -0.40519691, -1.88802963,  2.17212493,\n",
       "       -1.78985742, -0.23819406,  0.24143458,  1.81244388,  1.06973557,\n",
       "        0.11296407, -3.00133743, -0.36687009,  0.53402409,  2.17760319])"
      ]
     },
     "execution_count": 35,
     "metadata": {},
     "output_type": "execute_result"
    }
   ],
   "source": [
    "test_data[-2]"
   ]
  },
  {
   "cell_type": "code",
   "execution_count": 30,
   "id": "8854fcd6",
   "metadata": {},
   "outputs": [
    {
     "data": {
      "text/plain": [
       "tensor([[0.2737],\n",
       "        [0.4524]])"
      ]
     },
     "execution_count": 30,
     "metadata": {},
     "output_type": "execute_result"
    }
   ],
   "source": [
    "output"
   ]
  },
  {
   "cell_type": "code",
   "execution_count": 36,
   "id": "efb99499",
   "metadata": {},
   "outputs": [],
   "source": [
    "from sklearn import metrics"
   ]
  },
  {
   "cell_type": "code",
   "execution_count": 37,
   "id": "16971c91",
   "metadata": {},
   "outputs": [
    {
     "data": {
      "text/plain": [
       "0.925376"
      ]
     },
     "execution_count": 37,
     "metadata": {},
     "output_type": "execute_result"
    }
   ],
   "source": [
    "metrics.roc_auc_score(torch.cat(labels).view(-1), torch.cat(outputs).view(-1))"
   ]
  },
  {
   "cell_type": "code",
   "execution_count": null,
   "id": "714e45ad",
   "metadata": {},
   "outputs": [],
   "source": []
  },
  {
   "cell_type": "markdown",
   "id": "7adc6f14",
   "metadata": {},
   "source": [
    "### Deep Learning layers\n",
    "#### Linear Layer"
   ]
  },
  {
   "cell_type": "code",
   "execution_count": 2,
   "id": "e8c8ebb6",
   "metadata": {},
   "outputs": [],
   "source": [
    "import torch\n",
    "torch.manual_seed(1)\n",
    "ll = torch.nn.Linear(3, 2)"
   ]
  },
  {
   "cell_type": "code",
   "execution_count": 3,
   "id": "95e77ea7",
   "metadata": {},
   "outputs": [
    {
     "data": {
      "text/plain": [
       "Linear(in_features=3, out_features=2, bias=True)"
      ]
     },
     "execution_count": 3,
     "metadata": {},
     "output_type": "execute_result"
    }
   ],
   "source": [
    "ll"
   ]
  },
  {
   "cell_type": "code",
   "execution_count": 4,
   "id": "60db56b1",
   "metadata": {},
   "outputs": [
    {
     "data": {
      "text/plain": [
       "Parameter containing:\n",
       "tensor([[ 0.2975, -0.2548, -0.1119],\n",
       "        [ 0.2710, -0.5435,  0.3462]], requires_grad=True)"
      ]
     },
     "execution_count": 4,
     "metadata": {},
     "output_type": "execute_result"
    }
   ],
   "source": [
    "ll.weight"
   ]
  },
  {
   "cell_type": "code",
   "execution_count": 5,
   "id": "4d7268ff",
   "metadata": {},
   "outputs": [
    {
     "data": {
      "text/plain": [
       "Parameter containing:\n",
       "tensor([-0.1188,  0.2937], requires_grad=True)"
      ]
     },
     "execution_count": 5,
     "metadata": {},
     "output_type": "execute_result"
    }
   ],
   "source": [
    "ll.bias"
   ]
  },
  {
   "cell_type": "code",
   "execution_count": 6,
   "id": "cd989e61",
   "metadata": {},
   "outputs": [
    {
     "data": {
      "text/plain": [
       "tensor([[ 0.,  1.,  2.,  3.,  4.],\n",
       "        [ 5.,  6.,  7.,  8.,  9.],\n",
       "        [10., 11., 12., 13., 14.],\n",
       "        [15., 16., 17., 18., 19.],\n",
       "        [20., 21., 22., 23., 24.],\n",
       "        [25., 26., 27., 28., 29.],\n",
       "        [30., 31., 32., 33., 34.],\n",
       "        [35., 36., 37., 38., 39.],\n",
       "        [40., 41., 42., 43., 44.],\n",
       "        [45., 46., 47., 48., 49.]])"
      ]
     },
     "execution_count": 6,
     "metadata": {},
     "output_type": "execute_result"
    }
   ],
   "source": [
    "### Another Example\n",
    "# https://www.youtube.com/watch?v=XswEBzNgIYc\n",
    "\n",
    "X = torch.arange(50, dtype=torch.float).view(10, 5)\n",
    "X"
   ]
  },
  {
   "cell_type": "code",
   "execution_count": 7,
   "id": "ca0eb377",
   "metadata": {},
   "outputs": [],
   "source": [
    "fc_layer = torch.nn.Linear(in_features=5, \n",
    "                           out_features=3)"
   ]
  },
  {
   "cell_type": "code",
   "execution_count": 9,
   "id": "1e3fa3f2",
   "metadata": {},
   "outputs": [
    {
     "data": {
      "text/plain": [
       "Parameter containing:\n",
       "tensor([[ 0.0622, -0.0548,  0.1240,  0.0221,  0.1633],\n",
       "        [-0.1743, -0.0326, -0.0403,  0.0648, -0.0018],\n",
       "        [ 0.3909,  0.1392, -0.1665, -0.2701, -0.0750]], requires_grad=True)"
      ]
     },
     "execution_count": 9,
     "metadata": {},
     "output_type": "execute_result"
    }
   ],
   "source": [
    "fc_layer.weight"
   ]
  },
  {
   "cell_type": "code",
   "execution_count": 10,
   "id": "70f0198a",
   "metadata": {},
   "outputs": [
    {
     "data": {
      "text/plain": [
       "Parameter containing:\n",
       "tensor([-0.1929, -0.1433,  0.0214], requires_grad=True)"
      ]
     },
     "execution_count": 10,
     "metadata": {},
     "output_type": "execute_result"
    }
   ],
   "source": [
    "fc_layer.bias"
   ]
  },
  {
   "cell_type": "code",
   "execution_count": 12,
   "id": "22146efc",
   "metadata": {},
   "outputs": [
    {
     "name": "stdout",
     "output_type": "stream",
     "text": [
      "X dim: torch.Size([10, 5])\n",
      "W dim: torch.Size([3, 5])\n",
      "b dim: torch.Size([3])\n"
     ]
    }
   ],
   "source": [
    "print(f'X dim:', X.size())\n",
    "print(f'W dim:', fc_layer.weight.size())\n",
    "print(f'b dim:', fc_layer.bias.size())"
   ]
  },
  {
   "cell_type": "code",
   "execution_count": 13,
   "id": "83ac244f",
   "metadata": {},
   "outputs": [
    {
     "name": "stdout",
     "output_type": "stream",
     "text": [
      "A: tensor([[ 0.7199, -0.0691, -1.2826],\n",
      "        [ 2.3042, -0.9897, -1.1901],\n",
      "        [ 3.8884, -1.9102, -1.0976],\n",
      "        [ 5.4727, -2.8308, -1.0051],\n",
      "        [ 7.0569, -3.7514, -0.9126],\n",
      "        [ 8.6411, -4.6719, -0.8201],\n",
      "        [10.2254, -5.5925, -0.7276],\n",
      "        [11.8096, -6.5131, -0.6351],\n",
      "        [13.3939, -7.4336, -0.5425],\n",
      "        [14.9781, -8.3542, -0.4500]], grad_fn=<AddmmBackward>)\n",
      "A dim: torch.Size([10, 3])\n"
     ]
    }
   ],
   "source": [
    "A = fc_layer(X)\n",
    "print('A:', A)\n",
    "print('A dim:', A.size())"
   ]
  },
  {
   "cell_type": "code",
   "execution_count": 15,
   "id": "fa1d284d",
   "metadata": {},
   "outputs": [],
   "source": [
    "## if you want to set weights and bias manually to linear layer\n",
    "\n",
    "x = torch.tensor(data = [1, 2, 3]).float()\n",
    "ll = torch.nn.Linear(3, 2)\n",
    "ll.weight = torch.nn.Parameter(torch.tensor([[0 ,2, 5], [1, 0, 2]]).float())\n",
    "ll.bias = torch.nn.Parameter(torch.tensor([1, 1]).float())"
   ]
  },
  {
   "cell_type": "code",
   "execution_count": 16,
   "id": "94af579a",
   "metadata": {},
   "outputs": [
    {
     "name": "stdout",
     "output_type": "stream",
     "text": [
      "x: [1.0, 2.0, 3.0]\n",
      "A: [[0.0, 2.0, 5.0], [1.0, 0.0, 2.0]]\n",
      "b: [1.0, 1.0]\n",
      "y: Ax + b: [20.0, 8.0]\n"
     ]
    }
   ],
   "source": [
    "print(f'x: {x.tolist()}')\n",
    "print(f'A: {ll.weight.tolist()}')\n",
    "print(f'b: {ll.bias.tolist()}')\n",
    "print(f'y: Ax + b: {ll(x).tolist()}')"
   ]
  },
  {
   "cell_type": "markdown",
   "id": "4b7b4b9f",
   "metadata": {},
   "source": [
    "#### Convolution"
   ]
  },
  {
   "cell_type": "markdown",
   "id": "88079af8",
   "metadata": {},
   "source": [
    "3-types of convolution layers:\n",
    "    \n",
    "    1-D convolution: Mainly used for sequential data like time series or audio data streams\n",
    "    \n",
    "    2-D : Image processing\n",
    "    \n",
    "    3-D : 3-D images of video streams"
   ]
  },
  {
   "cell_type": "markdown",
   "id": "72e63403",
   "metadata": {},
   "source": [
    "The convolution layer needs two tensors to calculate convolution: input tensor and kernel tensor"
   ]
  },
  {
   "cell_type": "code",
   "execution_count": 18,
   "id": "2a21dc17",
   "metadata": {},
   "outputs": [],
   "source": [
    "import torch\n",
    "from torch.nn.parameter import Parameter"
   ]
  },
  {
   "cell_type": "code",
   "execution_count": 19,
   "id": "28419d34",
   "metadata": {},
   "outputs": [
    {
     "name": "stdout",
     "output_type": "stream",
     "text": [
      "tensor([[[[ 0.6502,  1.5209, -0.2703],\n",
      "          [ 0.1327, -0.7725,  1.3937],\n",
      "          [-0.6481,  1.9087, -0.2575]]]], grad_fn=<ThnnConv2DBackward>)\n"
     ]
    }
   ],
   "source": [
    "A = torch.tensor([[[[1, 2, 0, 1],\n",
    "                   [-1, 0, 3, 2],\n",
    "                   [1, 3, 0, 1],\n",
    "                   [2, -2, 1, 0]]]]).float()\n",
    "conv2d = torch.nn.Conv2d(1, 1, kernel_size=2, bias=False)\n",
    "conv2d.weights = Parameter(torch.tensor([[[[1, -1],\n",
    "                                          [-1, 1]]]]).float())\n",
    "output = conv2d(A)\n",
    "print(output)"
   ]
  },
  {
   "cell_type": "markdown",
   "id": "8eb0fb7b",
   "metadata": {},
   "source": [
    "Convolution layer has following parameters:\n",
    "    \n",
    "    Kernel - Is the size of kernel tensor. Usual value is from 3 to 5. For 1-D, kernel=3 defines a vector with 3 elements, 2 D - 3x3 , 3 D = 3x3x3 tensor\n",
    "    \n",
    "    Weight - Is the actual kernel tensor.\n",
    "    \n",
    "    padding - Number of cells an input tensor can be extended by zeros.Param: padding=2\n",
    "     \n",
    "    stride - Size of step by which kernel tensor \"slides\" across the input tensor.Param: stride=2"
   ]
  },
  {
   "cell_type": "markdown",
   "id": "e2cef3e9",
   "metadata": {},
   "source": [
    "Pooling: An aggregation technique, which aims to reduce the size of the input tensor. The pooling layer tries to extract main tensor features and to reduce the computation costs. Most popular pooling layers - Max Pooling (torch.nn.MaxPool2s(2)) and Average Pooling (torch.nn.AvgPool2d(2))."
   ]
  },
  {
   "cell_type": "markdown",
   "id": "838de9df",
   "metadata": {},
   "source": [
    "Dropout: Regularization technique, avoid overfitting. In the training mode, dropout layer drops out random elements of the input tensor with probabilitiy p."
   ]
  },
  {
   "cell_type": "markdown",
   "id": "9d02a615",
   "metadata": {},
   "source": [
    "Activation Function: Added to a NN to help the network learn complex nonlinear dependencies. Examples:\n",
    "    \n",
    "    ReLU:  ReLU(x) = max(0,x) . torch.nn.ReLU()\n",
    "    \n",
    "    Sigmoid: sigmoid(x) = 1 / (1 + e-x). torch.nn.Sigmoid()\n",
    "    \n",
    "    Tanh: Hyperbloic tangent function. Range is (-1, 1).\n",
    "    \n",
    "Nonlinear activation functions, like sigmoid and tanh, suffer from a big computational problem called the vanishing gradient problem."
   ]
  },
  {
   "cell_type": "markdown",
   "id": "ccdc3d85",
   "metadata": {},
   "source": [
    "#### NN architecture\n",
    "\n",
    "To create NN in PyTorch we need to bind layers to the model and define forward method"
   ]
  },
  {
   "cell_type": "code",
   "execution_count": 20,
   "id": "e54e0f4c",
   "metadata": {},
   "outputs": [],
   "source": [
    "import torch.nn as nn\n",
    "import torch.nn.functional as F\n",
    "class MnistModel(nn.Module):\n",
    "    def __init__(self):\n",
    "        super(MnistModel, self).__init__()\n",
    "        self.conv1 = nn.Conv2d(1, 10, kernel_size=5)\n",
    "        self.conv2 = nn.Conv2d(10, 20, kernel_size=5)\n",
    "        self.conv2_drop = nn.Dropout2d()\n",
    "        self.fc1 = nn.Linear(320, 50)\n",
    "        self.fc2 = nn.Linear(50, 10)\n",
    "    def forward(self, x):\n",
    "        x = self.conv1(x)\n",
    "        x = F.max_pool2d(x, 2)\n",
    "        x = F.relu(x)\n",
    "        x = self.conv2(x)\n",
    "        x = self.conv2_drop(x)\n",
    "        x = F.max_pool2d(x, 2)\n",
    "        x = F.relu(x)\n",
    "        x = x.view(-1, 320)\n",
    "        x = F.relu(self.fc1(x))\n",
    "        x = F.dropout(x, training=self.training)\n",
    "        x = self.fc2(x)\n",
    "        return F.log_softmax(x)"
   ]
  },
  {
   "cell_type": "code",
   "execution_count": 22,
   "id": "9cf1b6ef",
   "metadata": {},
   "outputs": [
    {
     "name": "stdout",
     "output_type": "stream",
     "text": [
      "conv1: Conv2d(1, 10, kernel_size=(5, 5), stride=(1, 1))\n",
      "conv2: Conv2d(10, 20, kernel_size=(5, 5), stride=(1, 1))\n",
      "conv2_drop: Dropout2d(p=0.5, inplace=False)\n",
      "fc1: Linear(in_features=320, out_features=50, bias=True)\n",
      "fc2: Linear(in_features=50, out_features=10, bias=True)\n"
     ]
    }
   ],
   "source": [
    "#list all layers:\n",
    "\n",
    "net = MnistModel()\n",
    "for name, layer in net.named_children():\n",
    "    print(f'{name}: {layer}')"
   ]
  },
  {
   "cell_type": "markdown",
   "id": "db5beed7",
   "metadata": {},
   "source": [
    "#### Improving NN performance\n",
    "\n",
    "Do not put 2 same layers in a row\n",
    "\n",
    "Prefer ReLU activation at first\n",
    "\n",
    "Start from fully connected network\n",
    "\n",
    "More layers are better than more neurons\n",
    "\n",
    "Use dropouts"
   ]
  },
  {
   "cell_type": "markdown",
   "id": "dcc34597",
   "metadata": {},
   "source": [
    "For time series analysis there are 3 main loss functions:\n",
    "    \n",
    "    L1 loss or absolute loss - metric of the distance between 2 vectors ((|actual - predicted|)/n.  abs_loss = torch.nn.L1Loss() . abs_error = abs_loss(a, b)\n",
    "    \n",
    "    L2 loss or mean squared error\n",
    "    \n",
    "    Smooth l1 loss - intermediate between absolute and MSE loss. Less sensitive to outliers than MSE. "
   ]
  },
  {
   "cell_type": "markdown",
   "id": "aed3ae59",
   "metadata": {},
   "source": [
    "Optimizers - main purpose is to shift the model's weigth parameter to minimize the loss function.\n",
    "\n",
    "Adagrad: gradient-based optimization algo. Performs smaller updates for parameters associated with frequently occurring features and larger updates for parameters associated with rare features\n",
    "\n",
    "Adadelta: limits the window of accumulated past gradients to some fixed size.\n",
    "\n",
    "Adam: Adaptive Moment Estimation: Computes adaptive learning rates for each parameter.\n",
    "\n",
    "SGD: randomly picks one data row from the whole input dataset at each training iteration to decrease computation time. \"mini-batch\" - balance between GD and SGD."
   ]
  },
  {
   "cell_type": "markdown",
   "id": "c27bf364",
   "metadata": {},
   "source": [
    "### Training process in PyTorch"
   ]
  },
  {
   "cell_type": "code",
   "execution_count": null,
   "id": "76d5e3c6",
   "metadata": {},
   "outputs": [],
   "source": [
    "net = FooModel()\n",
    "optimizer = torch.optim.Adam(params=net.parameters())\n",
    "loss_func = torch.nn.MSELoss()\n",
    "\n",
    "for i in range(100):\n",
    "    y_predicted = net(x_train)\n",
    "    loss = loss_func(y_predicted, y_train)\n",
    "    optimizer.zero_grad()\n",
    "    loss.backward()\n",
    "    optimizer.step()\n",
    "    "
   ]
  },
  {
   "cell_type": "code",
   "execution_count": 23,
   "id": "869ce0d5",
   "metadata": {},
   "outputs": [],
   "source": [
    "import random\n",
    "from math import sin, cos\n",
    "import matplotlib.pyplot as plt\n",
    "\n",
    "def get_time_series_data(length):\n",
    "    a = 0.2\n",
    "    b = 300\n",
    "    c = 20\n",
    "    ls = 5\n",
    "    ms = 20\n",
    "    gs = 100\n",
    "    ts = []\n",
    "    for i in range(length):\n",
    "        ts.append(b + a*i + ls * sin(i/5) + ms * cos(i/24) + gs * sin(i/120) + c * random.random())\n",
    "    return ts"
   ]
  },
  {
   "cell_type": "code",
   "execution_count": 24,
   "id": "87178d1d",
   "metadata": {},
   "outputs": [
    {
     "data": {
      "image/png": "[encoded data removed]",
      "text/plain": [
       "<Figure size 640x480 with 1 Axes>"
      ]
     },
     "metadata": {},
     "output_type": "display_data"
    }
   ],
   "source": [
    "data = get_time_series_data(3000)\n",
    "plt.plot(data)\n",
    "plt.show()"
   ]
  },
  {
   "cell_type": "code",
   "execution_count": 27,
   "id": "f9d3953a",
   "metadata": {},
   "outputs": [
    {
     "data": {
      "text/plain": [
       "[321.68803402462277,\n",
       " 329.08345067123884,\n",
       " 325.14581227305735,\n",
       " 336.3406090054964,\n",
       " 328.6322227727207,\n",
       " 329.21866591030965,\n",
       " 337.9747399967511,\n",
       " 345.69417834532084,\n",
       " 351.1532569174562,\n",
       " 342.15909867982515]"
      ]
     },
     "execution_count": 27,
     "metadata": {},
     "output_type": "execute_result"
    }
   ],
   "source": [
    "data[:10]"
   ]
  },
  {
   "cell_type": "code",
   "execution_count": 25,
   "id": "c2675517",
   "metadata": {},
   "outputs": [],
   "source": [
    "import torch\n",
    "from sklearn.model_selection import train_test_split"
   ]
  },
  {
   "cell_type": "code",
   "execution_count": 28,
   "id": "97f5fa58",
   "metadata": {},
   "outputs": [],
   "source": [
    "def get_time_series_datasets(features, ts_len):\n",
    "    ts = get_time_series_data(ts_len)\n",
    "    X = []\n",
    "    Y = []\n",
    "    for i in range(features + 1, ts_len):\n",
    "        X.append(ts[i - (features + 1): i-1])\n",
    "        Y.append(ts[i])\n",
    "    X_train, X_test, Y_train, Y_test = train_test_split(\n",
    "        X\n",
    "        , Y\n",
    "        , test_size=0.3\n",
    "        , shuffle=False\n",
    "    )\n",
    "    X_val, X_test, Y_val, Y_test = train_test_split(\n",
    "        X_test\n",
    "        , Y_test\n",
    "        , test_size=0.5\n",
    "        , shuffle=False\n",
    "    )\n",
    "    x_train = torch.tensor(data=X_train)\n",
    "    y_train = torch.tensor(data=Y_train)\n",
    "    x_val = torch.tensor(data=X_val)\n",
    "    y_val = torch.tensor(data=Y_val)\n",
    "    x_test = torch.tensor(data=X_test)\n",
    "    y_test = torch.tensor(data=Y_test)\n",
    "    return x_train, x_val, x_test, y_train, y_val, y_test"
   ]
  },
  {
   "cell_type": "code",
   "execution_count": null,
   "id": "7713358a",
   "metadata": {},
   "outputs": [],
   "source": []
  },
  {
   "cell_type": "code",
   "execution_count": 53,
   "id": "3cb64bbc",
   "metadata": {},
   "outputs": [],
   "source": [
    "import torch.nn.functional as F\n",
    "class FCNN(torch.nn.Module):\n",
    "    def __init__(self, n_inp, l_1, l_2, n_out):\n",
    "        super(FCNN, self).__init__()\n",
    "        self.lin1 = torch.nn.Linear(n_inp, l_1)\n",
    "        self.lin2 = torch.nn.Linear(l_1, l_2)\n",
    "        self.lin3 = torch.nn.Linear(l_2, n_out)\n",
    "    def forward(self, x):\n",
    "        x1 = F.relu(self.lin1(x))\n",
    "        x2 = F.relu(self.lin2(x1))\n",
    "        y = self.lin3(x2)\n",
    "        return y"
   ]
  },
  {
   "cell_type": "code",
   "execution_count": 71,
   "id": "9ca7f186",
   "metadata": {},
   "outputs": [],
   "source": [
    "features = 256\n",
    "ts_len = 10000\n",
    "\n",
    "x_train, x_val, x_test, y_train, y_val, y_test = get_time_series_datasets(features, ts_len)"
   ]
  },
  {
   "cell_type": "code",
   "execution_count": 72,
   "id": "b9841177",
   "metadata": {},
   "outputs": [
    {
     "name": "stdout",
     "output_type": "stream",
     "text": [
      "torch.Size([6820, 256])\n",
      "torch.Size([256])\n",
      "torch.Size([256])\n"
     ]
    }
   ],
   "source": [
    "print(x_train.size())\n",
    "print(x_train[0].size())\n",
    "print(x_train[10].size())"
   ]
  },
  {
   "cell_type": "code",
   "execution_count": 73,
   "id": "4d2bf1b4",
   "metadata": {},
   "outputs": [
    {
     "data": {
      "text/plain": [
       "tensor(449.0209)"
      ]
     },
     "execution_count": 73,
     "metadata": {},
     "output_type": "execute_result"
    }
   ],
   "source": [
    "y_train[0]"
   ]
  },
  {
   "cell_type": "code",
   "execution_count": 74,
   "id": "1e0d1dcb",
   "metadata": {},
   "outputs": [
    {
     "data": {
      "text/plain": [
       "FCNN(\n",
       "  (lin1): Linear(in_features=256, out_features=64, bias=True)\n",
       "  (lin2): Linear(in_features=64, out_features=32, bias=True)\n",
       "  (lin3): Linear(in_features=32, out_features=1, bias=True)\n",
       ")"
      ]
     },
     "execution_count": 74,
     "metadata": {},
     "output_type": "execute_result"
    }
   ],
   "source": [
    "net = FCNN(n_inp=features, l_1=64, l_2=32, n_out=1)\n",
    "net.train()"
   ]
  },
  {
   "cell_type": "code",
   "execution_count": 75,
   "id": "1c1dca47",
   "metadata": {},
   "outputs": [],
   "source": [
    "optimizer = torch.optim.Adam(params = net.parameters())\n",
    "loss_func = torch.nn.MSELoss()"
   ]
  },
  {
   "cell_type": "code",
   "execution_count": 76,
   "id": "cc494643",
   "metadata": {},
   "outputs": [],
   "source": [
    "best_model = None\n",
    "min_val_loss = 1_000_000\n",
    "training_loss = []\n",
    "validation_loss = []"
   ]
  },
  {
   "cell_type": "code",
   "execution_count": 77,
   "id": "3467ef79",
   "metadata": {},
   "outputs": [
    {
     "name": "stderr",
     "output_type": "stream",
     "text": [
      "/Users/prakanan/opt/miniconda3/lib/python3.8/site-packages/torch/nn/modules/loss.py:528: UserWarning: Using a target size (torch.Size([6820])) that is different to the input size (torch.Size([6820, 1])). This will likely lead to incorrect results due to broadcasting. Please ensure they have the same size.\n",
      "  return F.mse_loss(input, target, reduction=self.reduction)\n",
      "/Users/prakanan/opt/miniconda3/lib/python3.8/site-packages/torch/nn/modules/loss.py:528: UserWarning: Using a target size (torch.Size([1461])) that is different to the input size (torch.Size([1461, 1])). This will likely lead to incorrect results due to broadcasting. Please ensure they have the same size.\n",
      "  return F.mse_loss(input, target, reduction=self.reduction)\n"
     ]
    },
    {
     "name": "stdout",
     "output_type": "stream",
     "text": [
      "epoch 0: train - 887528.5625, val: 1376884.0\n",
      "epoch 1000: train - 300308.8125, val: 77989.5156\n",
      "epoch 2000: train - 233371.3906, val: 206943.7969\n",
      "epoch 3000: train - 193601.9531, val: 309147.5938\n",
      "epoch 4000: train - 168879.4844, val: 602776.6875\n",
      "epoch 5000: train - 165448.4531, val: 653979.6875\n",
      "epoch 6000: train - 164109.7656, val: 652230.5\n",
      "epoch 7000: train - 164107.4219, val: 670404.9375\n",
      "epoch 8000: train - 165237.8906, val: 675937.5625\n",
      "epoch 9000: train - 164743.9062, val: 652543.125\n"
     ]
    }
   ],
   "source": [
    "import copy \n",
    "\n",
    "for t in range(10_000):\n",
    "    prediction = net(x_train)\n",
    "    loss = loss_func(prediction, y_train)\n",
    "    optimizer.zero_grad()\n",
    "    loss.backward()\n",
    "    optimizer.step()\n",
    "    val_prediction = net(x_val)\n",
    "    val_loss = loss_func(val_prediction, y_val)\n",
    "    training_loss.append(loss.item())\n",
    "    validation_loss.append(val_loss.item())\n",
    "    if val_loss.item() < min_val_loss:\n",
    "        best_model = copy.deepcopy(net)\n",
    "        min_val_loss = val_loss.item()\n",
    "    if t % 1000 == 0:\n",
    "        print(f'epoch {t}: train - {round(loss.item(), 4)}, val: {round(val_loss.item(), 4)}')"
   ]
  },
  {
   "cell_type": "code",
   "execution_count": 78,
   "id": "2e28e46b",
   "metadata": {},
   "outputs": [
    {
     "data": {
      "text/plain": [
       "FCNN(\n",
       "  (lin1): Linear(in_features=256, out_features=64, bias=True)\n",
       "  (lin2): Linear(in_features=64, out_features=32, bias=True)\n",
       "  (lin3): Linear(in_features=32, out_features=1, bias=True)\n",
       ")"
      ]
     },
     "execution_count": 78,
     "metadata": {},
     "output_type": "execute_result"
    }
   ],
   "source": [
    "net.eval()"
   ]
  },
  {
   "cell_type": "code",
   "execution_count": 79,
   "id": "86936b33",
   "metadata": {},
   "outputs": [
    {
     "name": "stderr",
     "output_type": "stream",
     "text": [
      "/Users/prakanan/opt/miniconda3/lib/python3.8/site-packages/torch/nn/modules/loss.py:528: UserWarning: Using a target size (torch.Size([1462])) that is different to the input size (torch.Size([1462, 1])). This will likely lead to incorrect results due to broadcasting. Please ensure they have the same size.\n",
      "  return F.mse_loss(input, target, reduction=self.reduction)\n"
     ]
    },
    {
     "data": {
      "text/plain": [
       "24153.048828125"
      ]
     },
     "execution_count": 79,
     "metadata": {},
     "output_type": "execute_result"
    }
   ],
   "source": [
    "loss_func(best_model(x_test), y_test).item()"
   ]
  },
  {
   "cell_type": "code",
   "execution_count": 80,
   "id": "7c8cbd12",
   "metadata": {},
   "outputs": [
    {
     "data": {
      "text/plain": [
       "<matplotlib.legend.Legend at 0x7fee459406a0>"
      ]
     },
     "execution_count": 80,
     "metadata": {},
     "output_type": "execute_result"
    },
    {
     "data": {
      "image/png": "[encoded data removed]",
      "text/plain": [
       "<Figure size 640x480 with 1 Axes>"
      ]
     },
     "metadata": {},
     "output_type": "display_data"
    }
   ],
   "source": [
    "plt.title(\"Training Loss\")\n",
    "plt.yscale(\"log\")\n",
    "plt.plot(training_loss, label = 'training loss')\n",
    "plt.plot(validation_loss, label = 'validation loss')\n",
    "plt.legend()"
   ]
  },
  {
   "cell_type": "code",
   "execution_count": null,
   "id": "b375efdd",
   "metadata": {},
   "outputs": [],
   "source": []
  },
  {
   "cell_type": "code",
   "execution_count": null,
   "id": "179f3f3d",
   "metadata": {},
   "outputs": [],
   "source": []
  },
  {
   "cell_type": "code",
   "execution_count": null,
   "id": "a92d2360",
   "metadata": {},
   "outputs": [],
   "source": []
  }
 ],
 "metadata": {
  "kernelspec": {
   "display_name": "Python 3 (ipykernel)",
   "language": "python",
   "name": "python3"
  },
  "language_info": {
   "codemirror_mode": {
    "name": "ipython",
    "version": 3
   },
   "file_extension": ".py",
   "mimetype": "text/x-python",
   "name": "python",
   "nbconvert_exporter": "python",
   "pygments_lexer": "ipython3",
   "version": "3.8.15"
  }
 },
 "nbformat": 4,
 "nbformat_minor": 5
}
