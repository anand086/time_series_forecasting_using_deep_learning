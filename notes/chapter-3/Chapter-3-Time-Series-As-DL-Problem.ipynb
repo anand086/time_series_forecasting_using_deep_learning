{
 "cells": [
  {
   "cell_type": "markdown",
   "id": "1e146a15",
   "metadata": {},
   "source": [
    "Chapter starts with Objective, then talks about Problem statement, regression versus classification. \n",
    "\n",
    "Time series regression problem - Most common regression problem for time series is a forecasting task. Most of the problems are expressed as regression problem.\n",
    "\n",
    "Time Series classification problems - Can also be formulated as classification task.\n",
    "\n",
    "Pattern recognition is another type of problem."
   ]
  },
  {
   "cell_type": "markdown",
   "id": "29c8cbca",
   "metadata": {},
   "source": [
    "### Univariate versus Multivariate\n",
    "\n",
    "univariate input - univariate output\n",
    "\n",
    "multivariate input - univariate output\n",
    "\n",
    "multivariate input - multivariate output\n",
    "\n",
    "i. univariate input - univariate output: Usually solved by traditional statistical methods like SARIMA, HWES etc. \n",
    "\n",
    "ii. multivariate input - univariate output: Promising task for Deep Learning. DL helps find complex predict in multivariate time series. Usually, there is primary time series sequence for a forecast and a secondary ones. The secondary ts sequence contains auxiliary data that help determine the nature of primary ts behaviour more accurately.\n",
    "\n",
    "iii. multivariate input - multivariate output: 2 approaches -\n",
    "    a. Many-to-Many: 1 predictive model makes predictins for ach of the ts sequences\n",
    "    b. Many-to-one: Reduce the task to several multivariate input - univariate output prob "
   ]
  },
  {
   "cell_type": "markdown",
   "id": "bc41ea85",
   "metadata": {},
   "source": [
    "### Single-Step vs Multi-Step\n",
    "\n",
    "Single-step: forecasting only the next value of the time series\n",
    "\n",
    "Multi-step: forecast several steps ahead\n",
    "\n",
    "3 approaches for multi-step:\n",
    "\n",
    "    1. Single multi-step model\n",
    "    2. Multiple single-step model\n",
    "    3. Recurrent single-step model"
   ]
  },
  {
   "cell_type": "markdown",
   "id": "3c78a8a5",
   "metadata": {},
   "source": [
    "### Datasets\n",
    "\n",
    "Solving missing values:\n",
    "\n",
    "    1. Insert last known value (bfill)\n",
    "    2. Insert next known value (ffill)\n",
    "    3. Fill with zeros (fillna(0))\n",
    "    4. time-series mean value (df.fillna(df.mean())\n",
    "    5. Linear Interpolation (df.interpolate())\n",
    "\n",
    "Feature Eng and Featue Enrichment supply additional useful info to the model.\n"
   ]
  },
  {
   "cell_type": "markdown",
   "id": "12d8c9a0",
   "metadata": {},
   "source": [
    "### Time Series pre-processing and post-processing\n",
    "\n",
    "Most common ways to transform TS are:\n",
    "\n",
    "    1. Normalization\n",
    "    2. trend removal\n",
    "    3. differencing\n",
    "    \n",
    "TS -> Normalize -> Input -> Model -> Output -> Denormalize -> Prediction\n",
    "\n",
    "Normalization - [0.1] or [-1,1]"
   ]
  },
  {
   "cell_type": "code",
   "execution_count": 1,
   "id": "b61c40ba",
   "metadata": {},
   "outputs": [],
   "source": [
    "def normalize(ts):\n",
    "    max_ts = max(ts)\n",
    "    min_ts = min(ts)\n",
    "    normal_ts = [(v - min_ts) / (max_ts - min_ts) for v in ts]\n",
    "    return normal_ts, max_ts, min_ts\n",
    "\n",
    "def denormalize(ts, max_ts, min_ts):\n",
    "    denormal_ts = [v * (max_ts - min_ts) + min_ts for v in ts]\n",
    "    return denormal_ts\n",
    "\n",
    "# Another way to remove permanent or temporal trend in ts is differecing.\n",
    "\n",
    "def differencing(ts):\n",
    "    diff_ts = [(ts[i+1] - ts[i]) for i in range(len(ts) - 1)]\n",
    "    return diff_ts, ts[0]\n",
    "\n",
    "def integration(ts, b):\n",
    "    int_ts = [b]\n",
    "    for i in range(len(ts)):\n",
    "        int_ts.append(ts[i] + int_ts[i])\n",
    "    return int_ts"
   ]
  },
  {
   "cell_type": "code",
   "execution_count": 2,
   "id": "7a0839e8",
   "metadata": {},
   "outputs": [],
   "source": [
    "# Sliding window technique \n",
    "\n",
    "def sliding_window(ts, features):\n",
    "    X = []\n",
    "    Y = []\n",
    "    for i in range(features + 1, len(ts) + 1):\n",
    "        X.append(ts[i - (features + 1): i-1])\n",
    "        Y.append(ts[i-1])\n",
    "    return X,Y"
   ]
  },
  {
   "cell_type": "code",
   "execution_count": 3,
   "id": "a52327f4",
   "metadata": {},
   "outputs": [
    {
     "name": "stdout",
     "output_type": "stream",
     "text": [
      "Time Series: [0, 1, 2, 3, 4, 5]\n",
      "X: [[0, 1, 2], [1, 2, 3], [2, 3, 4]]\n",
      "Y: [3, 4, 5]\n"
     ]
    }
   ],
   "source": [
    "ts = list(range(6))\n",
    "X, Y = sliding_window(ts, 3)\n",
    "print(f'Time Series: {ts}')\n",
    "print(f'X: {X}')\n",
    "print(f'Y: {Y}')"
   ]
  },
  {
   "cell_type": "code",
   "execution_count": null,
   "id": "7175aa73",
   "metadata": {},
   "outputs": [],
   "source": [
    "import os\n",
    "import pandas as pd\n",
    "import matplotlib.pyplot as plt \n",
    "\n",
    "def interpolated_time_series():\n",
    "    dir_path = os.path.dirname(os.path.realpath(__file__))\n",
    "    ts_df = pd.read_csv(f'{dir_path}/data/MET_Office_Weather_Data.csv')\n",
    "    ts = ts_df.loc[ts_df['station'] == 'sheffield']['tmin']\\\n",
    "        .interpolate().dropna().tolist()\n",
    "    return ts           "
   ]
  },
  {
   "cell_type": "code",
   "execution_count": 4,
   "id": "cec96825",
   "metadata": {},
   "outputs": [],
   "source": [
    "\n",
    "def get_training_datasets(features, test_len):\n",
    "    ts = interpolated_time_series()\n",
    "    X, Y = sliding_window(ts, features)\n",
    "    X_train, Y_train, X_test, Y_test = X[0:-test_len] \\\n",
    "                                        , Y[0:-test_len] \\\n",
    "                                        , X[-test_len:] \\\n",
    "                                        , Y[-test_len:]\n",
    "    \n",
    "    train_len = round(len(ts) * 0.7)\n",
    "    X_train, X_val, Y_train, Y_val = X_train[0:train_len] \\\n",
    "                                        , X_train[train_len:] \\\n",
    "                                        , Y_train[0:train_len] \\\n",
    "                                        , Y_train[train_len:]\n",
    "    x_train = torch.tensor(data=X_train)\n",
    "    y_train = torch.tensor(data=Y_train)\n",
    "    x_val = torch.tensor(data=X_val)\n",
    "    y_val = torch.tensor(data=Y_val)\n",
    "    x_test = torch.tensor(data=X_test)\n",
    "    y_test = torch.tensor(data=Y_test)\n",
    "    return x_train, x_val, x_test, y_train, y_val, y_test"
   ]
  },
  {
   "cell_type": "markdown",
   "id": "5fe5f721",
   "metadata": {},
   "source": [
    "### Forecasting model development:\n",
    "\n",
    "    . Identify the problem \n",
    "    . Determine if it will regression or classification problem\n",
    "    . Determine the dimension of ts: univariate or multivariate\n",
    "    . Define the forecasting gorizon: single-step or multi-step\n",
    "    . EDA / feature engineering\n",
    "    . Preprocess ts (normalization, trend removal, differentiation)\n",
    "    . Prepare data for training using sliding window method\n",
    "    . Choose loss function\n",
    "    . Decide how often the model will be retrained\n",
    "    . Design model architecture\n",
    "    . Train the model\n",
    "    . Compare results with alternative classical forecasting methods\n",
    "    . Optimize the model\n",
    "\n"
   ]
  },
  {
   "cell_type": "code",
   "execution_count": null,
   "id": "6f132df8",
   "metadata": {},
   "outputs": [],
   "source": []
  },
  {
   "cell_type": "code",
   "execution_count": null,
   "id": "ba6e6d08",
   "metadata": {},
   "outputs": [],
   "source": []
  },
  {
   "cell_type": "code",
   "execution_count": null,
   "id": "513e876f",
   "metadata": {},
   "outputs": [],
   "source": []
  },
  {
   "cell_type": "code",
   "execution_count": null,
   "id": "2c80ae75",
   "metadata": {},
   "outputs": [],
   "source": []
  },
  {
   "cell_type": "code",
   "execution_count": null,
   "id": "87932ecd",
   "metadata": {},
   "outputs": [],
   "source": []
  },
  {
   "cell_type": "code",
   "execution_count": null,
   "id": "b6c90182",
   "metadata": {},
   "outputs": [],
   "source": []
  },
  {
   "cell_type": "code",
   "execution_count": null,
   "id": "2a17f77f",
   "metadata": {},
   "outputs": [],
   "source": []
  },
  {
   "cell_type": "code",
   "execution_count": null,
   "id": "a5b040cc",
   "metadata": {},
   "outputs": [],
   "source": []
  },
  {
   "cell_type": "code",
   "execution_count": null,
   "id": "6475dcf0",
   "metadata": {},
   "outputs": [],
   "source": []
  },
  {
   "cell_type": "code",
   "execution_count": null,
   "id": "7b588a90",
   "metadata": {},
   "outputs": [],
   "source": []
  },
  {
   "cell_type": "code",
   "execution_count": null,
   "id": "c1252e62",
   "metadata": {},
   "outputs": [],
   "source": []
  },
  {
   "cell_type": "code",
   "execution_count": null,
   "id": "e1efba77",
   "metadata": {},
   "outputs": [],
   "source": []
  },
  {
   "cell_type": "code",
   "execution_count": null,
   "id": "19dbb16a",
   "metadata": {},
   "outputs": [],
   "source": []
  },
  {
   "cell_type": "code",
   "execution_count": null,
   "id": "20daf5ae",
   "metadata": {},
   "outputs": [],
   "source": []
  },
  {
   "cell_type": "code",
   "execution_count": null,
   "id": "583abdb0",
   "metadata": {},
   "outputs": [],
   "source": []
  },
  {
   "cell_type": "code",
   "execution_count": null,
   "id": "c856b096",
   "metadata": {},
   "outputs": [],
   "source": []
  },
  {
   "cell_type": "code",
   "execution_count": null,
   "id": "54f907e2",
   "metadata": {},
   "outputs": [],
   "source": []
  },
  {
   "cell_type": "code",
   "execution_count": null,
   "id": "b25f70f9",
   "metadata": {},
   "outputs": [],
   "source": []
  },
  {
   "cell_type": "code",
   "execution_count": null,
   "id": "139da088",
   "metadata": {},
   "outputs": [],
   "source": []
  },
  {
   "cell_type": "code",
   "execution_count": null,
   "id": "05f25c7d",
   "metadata": {},
   "outputs": [],
   "source": []
  }
 ],
 "metadata": {
  "kernelspec": {
   "display_name": "Python 3 (ipykernel)",
   "language": "python",
   "name": "python3"
  },
  "language_info": {
   "codemirror_mode": {
    "name": "ipython",
    "version": 3
   },
   "file_extension": ".py",
   "mimetype": "text/x-python",
   "name": "python",
   "nbconvert_exporter": "python",
   "pygments_lexer": "ipython3",
   "version": "3.8.13"
  }
 },
 "nbformat": 4,
 "nbformat_minor": 5
}
